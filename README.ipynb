{
 "cells": [
  {
   "cell_type": "markdown",
   "metadata": {},
   "source": [
    "Our project was to create a model that could predict the faultiness of water wells in Tanzania.\n",
    "Our analysis was completed with the hopes of providing insight to those with a vested interest, \n",
    "be they financial or social, in improving water accessibility in Tanzania.\n"
   ]
  },
  {
   "cell_type": "markdown",
   "metadata": {},
   "source": [
    "This project employs data sets from the Tanzanian Ministry of Water and Taarifa."
   ]
  },
  {
   "cell_type": "markdown",
   "metadata": {},
   "source": [
    "Random Forest Tree, a supervised Machine Learning Algorithm, is the classifier we used to\n",
    "create our final model. "
   ]
  },
  {
   "cell_type": "markdown",
   "metadata": {},
   "source": [
    "After dowloading the data set, we began on a thorough data cleaning process using the Python tool Pandas. First, we needed to get rid of as many missing (NA) values as possible. Where possible, we utlized inferential statistics and imputed some of the missing values. Obviously, this is not always an option, so we ridded ourselves of the NA values using standard DA"
   ]
  },
  {
   "cell_type": "markdown",
   "metadata": {},
   "source": [
    "This is a map of Tanzania that revelas the location of every water well in the country. The wells in blue are totally functional. The ones in light blue need repairs. The ones in red are no longer functional. This is consistent with our decision to create three classes of water wells: Functional, In need of repair, and non functional"
   ]
  },
  {
   "cell_type": "markdown",
   "metadata": {},
   "source": [
    "This graph is pretty self explanatory, as it simply shows the number of wells per class. "
   ]
  },
  {
   "cell_type": "markdown",
   "metadata": {},
   "source": [
    "Here, we created a graph that revealed the ratio of functionality per well type. "
   ]
  },
  {
   "cell_type": "markdown",
   "metadata": {},
   "source": [
    "Here is a confusion matrix for our model. The number in the bottom left corner, \n",
    "represents the recall score for non functional wells. We wanted to maximize that score, since this is truly what determines how well our model could predict the faultiness of the water wells. "
   ]
  },
  {
   "cell_type": "markdown",
   "metadata": {},
   "source": [
    "Moving forward, we would love to be able to examine, geographical and topographical indicators of\n",
    "water well faultiness. Salinity, is another indicator that would be useful to study, especially \n",
    "given the prevalence of insufficient water wells along the east coast of Tanzania, which borders the\n",
    "Indian Ocean (one of the largest bodies of saltwater in the world). "
   ]
  },
  {
   "cell_type": "code",
   "execution_count": null,
   "metadata": {},
   "outputs": [],
   "source": []
  }
 ],
 "metadata": {
  "kernelspec": {
   "display_name": "Python 3",
   "language": "python",
   "name": "python3"
  },
  "language_info": {
   "codemirror_mode": {
    "name": "ipython",
    "version": 3
   },
   "file_extension": ".py",
   "mimetype": "text/x-python",
   "name": "python",
   "nbconvert_exporter": "python",
   "pygments_lexer": "ipython3",
   "version": "3.8.1"
  }
 },
 "nbformat": 4,
 "nbformat_minor": 4
}
