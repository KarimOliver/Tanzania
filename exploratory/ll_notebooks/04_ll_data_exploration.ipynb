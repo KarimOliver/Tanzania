{
 "cells": [
  {
   "cell_type": "markdown",
   "metadata": {},
   "source": [
    "### Continuing Feature Exploration"
   ]
  },
  {
   "cell_type": "markdown",
   "metadata": {},
   "source": [
    "Continuing where we left off in the previous notebook, lets trim our features down a bit more and and finalize our dataset for modeling"
   ]
  },
  {
   "cell_type": "code",
   "execution_count": 1,
   "metadata": {},
   "outputs": [],
   "source": [
    "%load_ext autoreload\n",
    "%autoreload 2"
   ]
  },
  {
   "cell_type": "code",
   "execution_count": 2,
   "metadata": {},
   "outputs": [],
   "source": [
    "#imports\n",
    "import os, sys\n",
    "import numpy as np\n",
    "import pandas as pd\n",
    "import matplotlib.pyplot as plt\n",
    "import seaborn as sns\n",
    "%matplotlib inline\n",
    "from sklearn.model_selection import train_test_split"
   ]
  },
  {
   "cell_type": "code",
   "execution_count": 3,
   "metadata": {},
   "outputs": [],
   "source": [
    "module_path = os.path.abspath(os.path.join(os.pardir, os.pardir))\n",
    "if module_path not in sys.path:\n",
    "    sys.path.append(module_path)"
   ]
  },
  {
   "cell_type": "code",
   "execution_count": 4,
   "metadata": {},
   "outputs": [],
   "source": [
    "#import customized functions\n",
    "from src.data_cleaning import cleaning_functions as cfs\n",
    "from src.data_cleaning import exploration_functions as efs"
   ]
  },
  {
   "cell_type": "code",
   "execution_count": 5,
   "metadata": {},
   "outputs": [],
   "source": [
    "X_train, X_test, y_train, y_test, df = cfs.load_data_files()"
   ]
  },
  {
   "cell_type": "code",
   "execution_count": 6,
   "metadata": {},
   "outputs": [],
   "source": [
    "label_dict, df = cfs.create_target(df)"
   ]
  },
  {
   "cell_type": "code",
   "execution_count": 7,
   "metadata": {},
   "outputs": [
    {
     "data": {
      "text/plain": [
       "{0: 'functional', 1: 'functional needs repair', 2: 'non functional'}"
      ]
     },
     "execution_count": 7,
     "metadata": {},
     "output_type": "execute_result"
    }
   ],
   "source": [
    "label_dict"
   ]
  },
  {
   "cell_type": "markdown",
   "metadata": {},
   "source": [
    "#### We dropped these features in the last notebook:\n",
    "\n",
    "`id`, `date_recorded`, `recorded_by`, `wpt_name`, `scheme_name`, `num_private`, `subvillage ward`\n",
    "\n",
    "Let's also add `latitude` and `longitude` to this list"
   ]
  },
  {
   "cell_type": "code",
   "execution_count": 8,
   "metadata": {},
   "outputs": [
    {
     "data": {
      "text/html": [
       "<div>\n",
       "<style scoped>\n",
       "    .dataframe tbody tr th:only-of-type {\n",
       "        vertical-align: middle;\n",
       "    }\n",
       "\n",
       "    .dataframe tbody tr th {\n",
       "        vertical-align: top;\n",
       "    }\n",
       "\n",
       "    .dataframe thead th {\n",
       "        text-align: right;\n",
       "    }\n",
       "</style>\n",
       "<table border=\"1\" class=\"dataframe\">\n",
       "  <thead>\n",
       "    <tr style=\"text-align: right;\">\n",
       "      <th></th>\n",
       "      <th>target</th>\n",
       "      <th>amount_tsh</th>\n",
       "      <th>funder</th>\n",
       "      <th>gps_height</th>\n",
       "      <th>installer</th>\n",
       "      <th>basin</th>\n",
       "      <th>region</th>\n",
       "      <th>region_code</th>\n",
       "      <th>district_code</th>\n",
       "      <th>lga</th>\n",
       "      <th>...</th>\n",
       "      <th>payment_type</th>\n",
       "      <th>water_quality</th>\n",
       "      <th>quality_group</th>\n",
       "      <th>quantity</th>\n",
       "      <th>quantity_group</th>\n",
       "      <th>source</th>\n",
       "      <th>source_type</th>\n",
       "      <th>source_class</th>\n",
       "      <th>waterpoint_type</th>\n",
       "      <th>waterpoint_type_group</th>\n",
       "    </tr>\n",
       "  </thead>\n",
       "  <tbody>\n",
       "    <tr>\n",
       "      <th>0</th>\n",
       "      <td>0</td>\n",
       "      <td>0.0</td>\n",
       "      <td>P</td>\n",
       "      <td>0</td>\n",
       "      <td>P</td>\n",
       "      <td>Lake Victoria</td>\n",
       "      <td>Mwanza</td>\n",
       "      <td>19</td>\n",
       "      <td>8</td>\n",
       "      <td>Ilemela</td>\n",
       "      <td>...</td>\n",
       "      <td>monthly</td>\n",
       "      <td>soft</td>\n",
       "      <td>good</td>\n",
       "      <td>insufficient</td>\n",
       "      <td>insufficient</td>\n",
       "      <td>shallow well</td>\n",
       "      <td>shallow well</td>\n",
       "      <td>groundwater</td>\n",
       "      <td>hand pump</td>\n",
       "      <td>hand pump</td>\n",
       "    </tr>\n",
       "    <tr>\n",
       "      <th>1</th>\n",
       "      <td>0</td>\n",
       "      <td>1200.0</td>\n",
       "      <td>Government Of Tanzania</td>\n",
       "      <td>1228</td>\n",
       "      <td>DWE</td>\n",
       "      <td>Lake Tanganyika</td>\n",
       "      <td>Kigoma</td>\n",
       "      <td>16</td>\n",
       "      <td>2</td>\n",
       "      <td>Kasulu</td>\n",
       "      <td>...</td>\n",
       "      <td>annually</td>\n",
       "      <td>soft</td>\n",
       "      <td>good</td>\n",
       "      <td>enough</td>\n",
       "      <td>enough</td>\n",
       "      <td>river</td>\n",
       "      <td>river/lake</td>\n",
       "      <td>surface</td>\n",
       "      <td>communal standpipe</td>\n",
       "      <td>communal standpipe</td>\n",
       "    </tr>\n",
       "    <tr>\n",
       "      <th>2</th>\n",
       "      <td>0</td>\n",
       "      <td>0.0</td>\n",
       "      <td>Tasaf</td>\n",
       "      <td>0</td>\n",
       "      <td>DWE</td>\n",
       "      <td>Lake Tanganyika</td>\n",
       "      <td>Shinyanga</td>\n",
       "      <td>17</td>\n",
       "      <td>5</td>\n",
       "      <td>Bukombe</td>\n",
       "      <td>...</td>\n",
       "      <td>unknown</td>\n",
       "      <td>soft</td>\n",
       "      <td>good</td>\n",
       "      <td>enough</td>\n",
       "      <td>enough</td>\n",
       "      <td>shallow well</td>\n",
       "      <td>shallow well</td>\n",
       "      <td>groundwater</td>\n",
       "      <td>hand pump</td>\n",
       "      <td>hand pump</td>\n",
       "    </tr>\n",
       "    <tr>\n",
       "      <th>3</th>\n",
       "      <td>2</td>\n",
       "      <td>0.0</td>\n",
       "      <td>World Vision</td>\n",
       "      <td>954</td>\n",
       "      <td>World vision</td>\n",
       "      <td>Pangani</td>\n",
       "      <td>Manyara</td>\n",
       "      <td>21</td>\n",
       "      <td>4</td>\n",
       "      <td>Simanjiro</td>\n",
       "      <td>...</td>\n",
       "      <td>unknown</td>\n",
       "      <td>salty</td>\n",
       "      <td>salty</td>\n",
       "      <td>insufficient</td>\n",
       "      <td>insufficient</td>\n",
       "      <td>shallow well</td>\n",
       "      <td>shallow well</td>\n",
       "      <td>groundwater</td>\n",
       "      <td>other</td>\n",
       "      <td>other</td>\n",
       "    </tr>\n",
       "    <tr>\n",
       "      <th>4</th>\n",
       "      <td>0</td>\n",
       "      <td>0.0</td>\n",
       "      <td>NaN</td>\n",
       "      <td>0</td>\n",
       "      <td>NaN</td>\n",
       "      <td>Lake Nyasa</td>\n",
       "      <td>Mbeya</td>\n",
       "      <td>12</td>\n",
       "      <td>4</td>\n",
       "      <td>Rungwe</td>\n",
       "      <td>...</td>\n",
       "      <td>never pay</td>\n",
       "      <td>soft</td>\n",
       "      <td>good</td>\n",
       "      <td>insufficient</td>\n",
       "      <td>insufficient</td>\n",
       "      <td>spring</td>\n",
       "      <td>spring</td>\n",
       "      <td>groundwater</td>\n",
       "      <td>communal standpipe</td>\n",
       "      <td>communal standpipe</td>\n",
       "    </tr>\n",
       "    <tr>\n",
       "      <th>5</th>\n",
       "      <td>2</td>\n",
       "      <td>0.0</td>\n",
       "      <td>Danida</td>\n",
       "      <td>0</td>\n",
       "      <td>Central government</td>\n",
       "      <td>Lake Nyasa</td>\n",
       "      <td>Mbeya</td>\n",
       "      <td>12</td>\n",
       "      <td>3</td>\n",
       "      <td>Kyela</td>\n",
       "      <td>...</td>\n",
       "      <td>monthly</td>\n",
       "      <td>soft</td>\n",
       "      <td>good</td>\n",
       "      <td>dry</td>\n",
       "      <td>dry</td>\n",
       "      <td>spring</td>\n",
       "      <td>spring</td>\n",
       "      <td>groundwater</td>\n",
       "      <td>communal standpipe</td>\n",
       "      <td>communal standpipe</td>\n",
       "    </tr>\n",
       "    <tr>\n",
       "      <th>6</th>\n",
       "      <td>2</td>\n",
       "      <td>0.0</td>\n",
       "      <td>Government Of Tanzania</td>\n",
       "      <td>934</td>\n",
       "      <td>District council</td>\n",
       "      <td>Pangani</td>\n",
       "      <td>Kilimanjaro</td>\n",
       "      <td>3</td>\n",
       "      <td>1</td>\n",
       "      <td>Rombo</td>\n",
       "      <td>...</td>\n",
       "      <td>monthly</td>\n",
       "      <td>soft</td>\n",
       "      <td>good</td>\n",
       "      <td>insufficient</td>\n",
       "      <td>insufficient</td>\n",
       "      <td>spring</td>\n",
       "      <td>spring</td>\n",
       "      <td>groundwater</td>\n",
       "      <td>communal standpipe multiple</td>\n",
       "      <td>communal standpipe</td>\n",
       "    </tr>\n",
       "  </tbody>\n",
       "</table>\n",
       "<p>7 rows × 31 columns</p>\n",
       "</div>"
      ],
      "text/plain": [
       "   target  amount_tsh                  funder  gps_height           installer  \\\n",
       "0       0         0.0                       P           0                   P   \n",
       "1       0      1200.0  Government Of Tanzania        1228                 DWE   \n",
       "2       0         0.0                   Tasaf           0                 DWE   \n",
       "3       2         0.0            World Vision         954        World vision   \n",
       "4       0         0.0                     NaN           0                 NaN   \n",
       "5       2         0.0                  Danida           0  Central government   \n",
       "6       2         0.0  Government Of Tanzania         934    District council   \n",
       "\n",
       "             basin       region  region_code  district_code        lga  ...  \\\n",
       "0    Lake Victoria       Mwanza           19              8    Ilemela  ...   \n",
       "1  Lake Tanganyika       Kigoma           16              2     Kasulu  ...   \n",
       "2  Lake Tanganyika    Shinyanga           17              5    Bukombe  ...   \n",
       "3          Pangani      Manyara           21              4  Simanjiro  ...   \n",
       "4       Lake Nyasa        Mbeya           12              4     Rungwe  ...   \n",
       "5       Lake Nyasa        Mbeya           12              3      Kyela  ...   \n",
       "6          Pangani  Kilimanjaro            3              1      Rombo  ...   \n",
       "\n",
       "   payment_type water_quality quality_group      quantity  quantity_group  \\\n",
       "0       monthly          soft          good  insufficient    insufficient   \n",
       "1      annually          soft          good        enough          enough   \n",
       "2       unknown          soft          good        enough          enough   \n",
       "3       unknown         salty         salty  insufficient    insufficient   \n",
       "4     never pay          soft          good  insufficient    insufficient   \n",
       "5       monthly          soft          good           dry             dry   \n",
       "6       monthly          soft          good  insufficient    insufficient   \n",
       "\n",
       "         source   source_type source_class              waterpoint_type  \\\n",
       "0  shallow well  shallow well  groundwater                    hand pump   \n",
       "1         river    river/lake      surface           communal standpipe   \n",
       "2  shallow well  shallow well  groundwater                    hand pump   \n",
       "3  shallow well  shallow well  groundwater                        other   \n",
       "4        spring        spring  groundwater           communal standpipe   \n",
       "5        spring        spring  groundwater           communal standpipe   \n",
       "6        spring        spring  groundwater  communal standpipe multiple   \n",
       "\n",
       "  waterpoint_type_group  \n",
       "0             hand pump  \n",
       "1    communal standpipe  \n",
       "2             hand pump  \n",
       "3                 other  \n",
       "4    communal standpipe  \n",
       "5    communal standpipe  \n",
       "6    communal standpipe  \n",
       "\n",
       "[7 rows x 31 columns]"
      ]
     },
     "execution_count": 8,
     "metadata": {},
     "output_type": "execute_result"
    }
   ],
   "source": [
    "df.drop(['id', 'date_recorded', 'recorded_by', 'wpt_name', 'scheme_name',\n",
    "         'num_private', 'subvillage', 'ward', 'longitude', 'latitude'], \n",
    "          axis=1, inplace=True)\n",
    "\n",
    "df.head(7)"
   ]
  },
  {
   "cell_type": "markdown",
   "metadata": {},
   "source": [
    "Continuing our investigation with the identified groups\n",
    "\n",
    "* Extraction specific: `extraction_type`, `extraction_type_group`, `extraction_type_class`\n",
    "* Management specific: `management`, `management_group`\n",
    "* Payment specific: `payment`, `payment_type`\n",
    "* Water quality: `water_quality`, `quality_group`\n",
    "* Water quantity: `quantity`, `quantity_group`\n",
    "* Source: `source`, `source_type`, `source_class`\n",
    "* Waterpoint type: `waterpoint_type`, `waterpoint_type_group`\n",
    "\n",
    "\n",
    "#### Extraction features"
   ]
  },
  {
   "cell_type": "code",
   "execution_count": 9,
   "metadata": {},
   "outputs": [
    {
     "data": {
      "text/html": [
       "<div>\n",
       "<style scoped>\n",
       "    .dataframe tbody tr th:only-of-type {\n",
       "        vertical-align: middle;\n",
       "    }\n",
       "\n",
       "    .dataframe tbody tr th {\n",
       "        vertical-align: top;\n",
       "    }\n",
       "\n",
       "    .dataframe thead th {\n",
       "        text-align: right;\n",
       "    }\n",
       "</style>\n",
       "<table border=\"1\" class=\"dataframe\">\n",
       "  <thead>\n",
       "    <tr style=\"text-align: right;\">\n",
       "      <th></th>\n",
       "      <th>target</th>\n",
       "      <th>extraction_type</th>\n",
       "      <th>extraction_type_group</th>\n",
       "      <th>extraction_type_class</th>\n",
       "    </tr>\n",
       "  </thead>\n",
       "  <tbody>\n",
       "    <tr>\n",
       "      <th>0</th>\n",
       "      <td>0</td>\n",
       "      <td>nira/tanira</td>\n",
       "      <td>nira/tanira</td>\n",
       "      <td>handpump</td>\n",
       "    </tr>\n",
       "    <tr>\n",
       "      <th>1</th>\n",
       "      <td>0</td>\n",
       "      <td>gravity</td>\n",
       "      <td>gravity</td>\n",
       "      <td>gravity</td>\n",
       "    </tr>\n",
       "    <tr>\n",
       "      <th>2</th>\n",
       "      <td>0</td>\n",
       "      <td>nira/tanira</td>\n",
       "      <td>nira/tanira</td>\n",
       "      <td>handpump</td>\n",
       "    </tr>\n",
       "    <tr>\n",
       "      <th>3</th>\n",
       "      <td>2</td>\n",
       "      <td>other</td>\n",
       "      <td>other</td>\n",
       "      <td>other</td>\n",
       "    </tr>\n",
       "    <tr>\n",
       "      <th>4</th>\n",
       "      <td>0</td>\n",
       "      <td>gravity</td>\n",
       "      <td>gravity</td>\n",
       "      <td>gravity</td>\n",
       "    </tr>\n",
       "    <tr>\n",
       "      <th>...</th>\n",
       "      <td>...</td>\n",
       "      <td>...</td>\n",
       "      <td>...</td>\n",
       "      <td>...</td>\n",
       "    </tr>\n",
       "    <tr>\n",
       "      <th>44545</th>\n",
       "      <td>1</td>\n",
       "      <td>gravity</td>\n",
       "      <td>gravity</td>\n",
       "      <td>gravity</td>\n",
       "    </tr>\n",
       "    <tr>\n",
       "      <th>44546</th>\n",
       "      <td>2</td>\n",
       "      <td>other</td>\n",
       "      <td>other</td>\n",
       "      <td>other</td>\n",
       "    </tr>\n",
       "    <tr>\n",
       "      <th>44547</th>\n",
       "      <td>0</td>\n",
       "      <td>gravity</td>\n",
       "      <td>gravity</td>\n",
       "      <td>gravity</td>\n",
       "    </tr>\n",
       "    <tr>\n",
       "      <th>44548</th>\n",
       "      <td>0</td>\n",
       "      <td>gravity</td>\n",
       "      <td>gravity</td>\n",
       "      <td>gravity</td>\n",
       "    </tr>\n",
       "    <tr>\n",
       "      <th>44549</th>\n",
       "      <td>0</td>\n",
       "      <td>gravity</td>\n",
       "      <td>gravity</td>\n",
       "      <td>gravity</td>\n",
       "    </tr>\n",
       "  </tbody>\n",
       "</table>\n",
       "<p>44550 rows × 4 columns</p>\n",
       "</div>"
      ],
      "text/plain": [
       "       target extraction_type extraction_type_group extraction_type_class\n",
       "0           0     nira/tanira           nira/tanira              handpump\n",
       "1           0         gravity               gravity               gravity\n",
       "2           0     nira/tanira           nira/tanira              handpump\n",
       "3           2           other                 other                 other\n",
       "4           0         gravity               gravity               gravity\n",
       "...       ...             ...                   ...                   ...\n",
       "44545       1         gravity               gravity               gravity\n",
       "44546       2           other                 other                 other\n",
       "44547       0         gravity               gravity               gravity\n",
       "44548       0         gravity               gravity               gravity\n",
       "44549       0         gravity               gravity               gravity\n",
       "\n",
       "[44550 rows x 4 columns]"
      ]
     },
     "execution_count": 9,
     "metadata": {},
     "output_type": "execute_result"
    }
   ],
   "source": [
    "df_extraction = df.loc[:, ['target', 'extraction_type', 'extraction_type_group', 'extraction_type_class']]\n",
    "df_extraction"
   ]
  },
  {
   "cell_type": "code",
   "execution_count": 10,
   "metadata": {},
   "outputs": [
    {
     "name": "stdout",
     "output_type": "stream",
     "text": [
      "Unique values for Extraction_type :  ['nira/tanira' 'gravity' 'other' 'swn 80' 'india mark ii' 'cemo'\n",
      " 'submersible' 'mono' 'other - swn 81' 'other - rope pump' 'afridev' 'ksb'\n",
      " 'other - play pump' 'india mark iii' 'windmill' 'walimi' 'climax'\n",
      " 'other - mkulima/shinyanga'] \n",
      "Number of unique values =  18\n",
      "\n",
      "Unique values for Extraction_type_group :  ['nira/tanira' 'gravity' 'other' 'swn 80' 'india mark ii'\n",
      " 'other motorpump' 'submersible' 'mono' 'other handpump' 'rope pump'\n",
      " 'afridev' 'india mark iii' 'wind-powered'] \n",
      "Number of unique values =  13\n",
      "\n",
      "Unique values for Extraction_type_class :  ['handpump' 'gravity' 'other' 'motorpump' 'submersible' 'rope pump'\n",
      " 'wind-powered'] \n",
      "Number of unique values =  7\n",
      "\n"
     ]
    }
   ],
   "source": [
    "def unique_values(features, df):\n",
    "    \"\"\"This function takes in a list of features and subsets the\n",
    "    dataframe and prints out the unique values of the individual\n",
    "    features\n",
    "    \"\"\"\n",
    "    \n",
    "    sub_df = df.loc[:, features]\n",
    "    for feature in features:\n",
    "        print('Unique values for '+ feature.capitalize() + ' : ', \n",
    "              sub_df[feature].unique(),'\\n' \n",
    "              'Number of unique values = ', \n",
    "              len(sub_df[feature].unique()), end='\\n\\n')\n",
    "\n",
    "unique_values(['extraction_type', 'extraction_type_group', 'extraction_type_class'], df)"
   ]
  },
  {
   "cell_type": "code",
   "execution_count": 11,
   "metadata": {},
   "outputs": [
    {
     "data": {
      "image/png": "[encoded data removed]",
      "text/plain": [
       "<Figure size 1440x576 with 1 Axes>"
      ]
     },
     "metadata": {
      "needs_background": "light"
     },
     "output_type": "display_data"
    }
   ],
   "source": [
    "efs.plot_relation_with_target('extraction_type', df)"
   ]
  },
  {
   "cell_type": "code",
   "execution_count": 12,
   "metadata": {},
   "outputs": [
    {
     "data": {
      "image/png": "[encoded data removed]",
      "text/plain": [
       "<Figure size 1440x576 with 1 Axes>"
      ]
     },
     "metadata": {
      "needs_background": "light"
     },
     "output_type": "display_data"
    }
   ],
   "source": [
    "efs.plot_relation_with_target('extraction_type_group', df)"
   ]
  },
  {
   "cell_type": "code",
   "execution_count": 13,
   "metadata": {},
   "outputs": [
    {
     "data": {
      "image/png": "[encoded data removed]",
      "text/plain": [
       "<Figure size 1440x576 with 1 Axes>"
      ]
     },
     "metadata": {
      "needs_background": "light"
     },
     "output_type": "display_data"
    }
   ],
   "source": [
    "efs.plot_relation_with_target('extraction_type_class', df)"
   ]
  },
  {
   "cell_type": "markdown",
   "metadata": {},
   "source": [
    "Let's find out with of these has the best correlation with the target"
   ]
  },
  {
   "cell_type": "code",
   "execution_count": 14,
   "metadata": {},
   "outputs": [
    {
     "data": {
      "text/plain": [
       "gravity                     -0.132782\n",
       "nira/tanira                 -0.105813\n",
       "afridev                     -0.036180\n",
       "india mark ii               -0.016370\n",
       "swn 80                      -0.015385\n",
       "other - rope pump           -0.012405\n",
       "walimi                      -0.003990\n",
       "cemo                         0.004565\n",
       "submersible                  0.005562\n",
       "other - mkulima/shinyanga    0.005780\n",
       "other - swn 81               0.007091\n",
       "climax                       0.011095\n",
       "windmill                     0.011283\n",
       "india mark iii               0.011996\n",
       "ksb                          0.020798\n",
       "other - play pump            0.021289\n",
       "mono                         0.083791\n",
       "other                        0.295122\n",
       "target                       1.000000\n",
       "Name: target, dtype: float64"
      ]
     },
     "execution_count": 14,
     "metadata": {},
     "output_type": "execute_result"
    }
   ],
   "source": [
    "efs.find_corr_for_category('extraction_type', df)"
   ]
  },
  {
   "cell_type": "code",
   "execution_count": 15,
   "metadata": {},
   "outputs": [
    {
     "data": {
      "text/plain": [
       "gravity           -0.132782\n",
       "nira/tanira       -0.105813\n",
       "afridev           -0.036180\n",
       "india mark ii     -0.016370\n",
       "swn 80            -0.015385\n",
       "rope pump         -0.012405\n",
       "other motorpump    0.009601\n",
       "wind-powered       0.011283\n",
       "india mark iii     0.011996\n",
       "other handpump     0.014398\n",
       "submersible        0.015401\n",
       "mono               0.083791\n",
       "other              0.295122\n",
       "target             1.000000\n",
       "Name: target, dtype: float64"
      ]
     },
     "execution_count": 15,
     "metadata": {},
     "output_type": "execute_result"
    }
   ],
   "source": [
    "efs.find_corr_for_category('extraction_type_group', df)"
   ]
  },
  {
   "cell_type": "code",
   "execution_count": 16,
   "metadata": {},
   "outputs": [
    {
     "data": {
      "text/plain": [
       "gravity        -0.132782\n",
       "handpump       -0.107429\n",
       "rope pump      -0.012405\n",
       "wind-powered    0.011283\n",
       "submersible     0.015401\n",
       "motorpump       0.084158\n",
       "other           0.295122\n",
       "target          1.000000\n",
       "Name: target, dtype: float64"
      ]
     },
     "execution_count": 16,
     "metadata": {},
     "output_type": "execute_result"
    }
   ],
   "source": [
    "efs.find_corr_for_category('extraction_type_class', df)"
   ]
  },
  {
   "cell_type": "markdown",
   "metadata": {},
   "source": [
    "Looking at the correlations, I notice that most of the correlation values in `'extraction_type_class'` can be found `'extraction_type_group'` \n",
    "\n",
    "choosing to keep the `'extraction_type_group'` and `'extraction_type'`. "
   ]
  },
  {
   "cell_type": "code",
   "execution_count": 17,
   "metadata": {},
   "outputs": [],
   "source": [
    "df.drop('extraction_type_class', axis=1, inplace=True)"
   ]
  },
  {
   "cell_type": "markdown",
   "metadata": {},
   "source": [
    "#### Inspecting `management` & `management_group`"
   ]
  },
  {
   "cell_type": "code",
   "execution_count": 18,
   "metadata": {},
   "outputs": [
    {
     "data": {
      "text/html": [
       "<div>\n",
       "<style scoped>\n",
       "    .dataframe tbody tr th:only-of-type {\n",
       "        vertical-align: middle;\n",
       "    }\n",
       "\n",
       "    .dataframe tbody tr th {\n",
       "        vertical-align: top;\n",
       "    }\n",
       "\n",
       "    .dataframe thead th {\n",
       "        text-align: right;\n",
       "    }\n",
       "</style>\n",
       "<table border=\"1\" class=\"dataframe\">\n",
       "  <thead>\n",
       "    <tr style=\"text-align: right;\">\n",
       "      <th></th>\n",
       "      <th>target</th>\n",
       "      <th>management</th>\n",
       "      <th>management_group</th>\n",
       "    </tr>\n",
       "  </thead>\n",
       "  <tbody>\n",
       "    <tr>\n",
       "      <th>0</th>\n",
       "      <td>0</td>\n",
       "      <td>vwc</td>\n",
       "      <td>user-group</td>\n",
       "    </tr>\n",
       "    <tr>\n",
       "      <th>1</th>\n",
       "      <td>0</td>\n",
       "      <td>water board</td>\n",
       "      <td>user-group</td>\n",
       "    </tr>\n",
       "    <tr>\n",
       "      <th>2</th>\n",
       "      <td>0</td>\n",
       "      <td>wug</td>\n",
       "      <td>user-group</td>\n",
       "    </tr>\n",
       "    <tr>\n",
       "      <th>3</th>\n",
       "      <td>2</td>\n",
       "      <td>wug</td>\n",
       "      <td>user-group</td>\n",
       "    </tr>\n",
       "    <tr>\n",
       "      <th>4</th>\n",
       "      <td>0</td>\n",
       "      <td>vwc</td>\n",
       "      <td>user-group</td>\n",
       "    </tr>\n",
       "    <tr>\n",
       "      <th>...</th>\n",
       "      <td>...</td>\n",
       "      <td>...</td>\n",
       "      <td>...</td>\n",
       "    </tr>\n",
       "    <tr>\n",
       "      <th>44545</th>\n",
       "      <td>1</td>\n",
       "      <td>vwc</td>\n",
       "      <td>user-group</td>\n",
       "    </tr>\n",
       "    <tr>\n",
       "      <th>44546</th>\n",
       "      <td>2</td>\n",
       "      <td>vwc</td>\n",
       "      <td>user-group</td>\n",
       "    </tr>\n",
       "    <tr>\n",
       "      <th>44547</th>\n",
       "      <td>0</td>\n",
       "      <td>vwc</td>\n",
       "      <td>user-group</td>\n",
       "    </tr>\n",
       "    <tr>\n",
       "      <th>44548</th>\n",
       "      <td>0</td>\n",
       "      <td>water board</td>\n",
       "      <td>user-group</td>\n",
       "    </tr>\n",
       "    <tr>\n",
       "      <th>44549</th>\n",
       "      <td>0</td>\n",
       "      <td>vwc</td>\n",
       "      <td>user-group</td>\n",
       "    </tr>\n",
       "  </tbody>\n",
       "</table>\n",
       "<p>44550 rows × 3 columns</p>\n",
       "</div>"
      ],
      "text/plain": [
       "       target   management management_group\n",
       "0           0          vwc       user-group\n",
       "1           0  water board       user-group\n",
       "2           0          wug       user-group\n",
       "3           2          wug       user-group\n",
       "4           0          vwc       user-group\n",
       "...       ...          ...              ...\n",
       "44545       1          vwc       user-group\n",
       "44546       2          vwc       user-group\n",
       "44547       0          vwc       user-group\n",
       "44548       0  water board       user-group\n",
       "44549       0          vwc       user-group\n",
       "\n",
       "[44550 rows x 3 columns]"
      ]
     },
     "execution_count": 18,
     "metadata": {},
     "output_type": "execute_result"
    }
   ],
   "source": [
    "df_mgt = df.loc[:, ['target', 'management', 'management_group']]\n",
    "df_mgt"
   ]
  },
  {
   "cell_type": "code",
   "execution_count": 19,
   "metadata": {},
   "outputs": [
    {
     "name": "stdout",
     "output_type": "stream",
     "text": [
      "Unique values for Management :  ['vwc' 'water board' 'wug' 'company' 'wua' 'parastatal' 'other'\n",
      " 'private operator' 'unknown' 'other - school' 'water authority' 'trust'] \n",
      "Number of unique values =  12\n",
      "\n",
      "Unique values for Management_group :  ['user-group' 'commercial' 'parastatal' 'other' 'unknown'] \n",
      "Number of unique values =  5\n",
      "\n"
     ]
    }
   ],
   "source": [
    "unique_values(['management', 'management_group'], df)"
   ]
  },
  {
   "cell_type": "code",
   "execution_count": 20,
   "metadata": {},
   "outputs": [
    {
     "data": {
      "image/png": "[encoded data removed]",
      "text/plain": [
       "<Figure size 1440x576 with 1 Axes>"
      ]
     },
     "metadata": {
      "needs_background": "light"
     },
     "output_type": "display_data"
    }
   ],
   "source": [
    "efs.plot_relation_with_target('management', df)"
   ]
  },
  {
   "cell_type": "code",
   "execution_count": 21,
   "metadata": {},
   "outputs": [
    {
     "data": {
      "image/png": "[encoded data removed]",
      "text/plain": [
       "<Figure size 1440x576 with 1 Axes>"
      ]
     },
     "metadata": {
      "needs_background": "light"
     },
     "output_type": "display_data"
    }
   ],
   "source": [
    "efs.plot_relation_with_target('management_group', df)"
   ]
  },
  {
   "cell_type": "code",
   "execution_count": 22,
   "metadata": {},
   "outputs": [
    {
     "data": {
      "text/plain": [
       "water board        -0.098456\n",
       "private operator   -0.071614\n",
       "wua                -0.069628\n",
       "wug                -0.050310\n",
       "parastatal         -0.019495\n",
       "other              -0.012854\n",
       "trust              -0.003841\n",
       "water authority     0.019642\n",
       "other - school      0.028992\n",
       "unknown             0.036658\n",
       "company             0.041790\n",
       "vwc                 0.122763\n",
       "target              1.000000\n",
       "Name: target, dtype: float64"
      ]
     },
     "execution_count": 22,
     "metadata": {},
     "output_type": "execute_result"
    }
   ],
   "source": [
    "efs.find_corr_for_category('management', df)"
   ]
  },
  {
   "cell_type": "code",
   "execution_count": 23,
   "metadata": {},
   "outputs": [
    {
     "data": {
      "text/plain": [
       "commercial   -0.025125\n",
       "parastatal   -0.019495\n",
       "other        -0.002881\n",
       "user-group    0.019124\n",
       "unknown       0.036658\n",
       "target        1.000000\n",
       "Name: target, dtype: float64"
      ]
     },
     "execution_count": 23,
     "metadata": {},
     "output_type": "execute_result"
    }
   ],
   "source": [
    "efs.find_corr_for_category('management_group', df)"
   ]
  },
  {
   "cell_type": "markdown",
   "metadata": {},
   "source": [
    "Based on correlation numbers dropping management_group"
   ]
  },
  {
   "cell_type": "code",
   "execution_count": 24,
   "metadata": {},
   "outputs": [],
   "source": [
    "df.drop('management_group', axis=1, inplace=True)"
   ]
  },
  {
   "cell_type": "markdown",
   "metadata": {},
   "source": [
    "#### Looking into: `payment` & `payment_type`"
   ]
  },
  {
   "cell_type": "code",
   "execution_count": 25,
   "metadata": {},
   "outputs": [
    {
     "name": "stdout",
     "output_type": "stream",
     "text": [
      "Unique values for Payment :  ['pay monthly' 'pay annually' 'unknown' 'never pay' 'pay per bucket'\n",
      " 'pay when scheme fails' 'other'] \n",
      "Number of unique values =  7\n",
      "\n",
      "Unique values for Payment_type :  ['monthly' 'annually' 'unknown' 'never pay' 'per bucket' 'on failure'\n",
      " 'other'] \n",
      "Number of unique values =  7\n",
      "\n"
     ]
    }
   ],
   "source": [
    "unique_values(['payment', 'payment_type'], df)"
   ]
  },
  {
   "cell_type": "markdown",
   "metadata": {},
   "source": [
    "these columns look like duplicates, will check correlation with target and drop one."
   ]
  },
  {
   "cell_type": "code",
   "execution_count": 26,
   "metadata": {},
   "outputs": [
    {
     "data": {
      "text/plain": [
       "pay monthly             -0.115907\n",
       "pay annually            -0.111824\n",
       "pay per bucket          -0.107183\n",
       "pay when scheme fails   -0.046517\n",
       "other                   -0.017003\n",
       "unknown                  0.104204\n",
       "never pay                0.167728\n",
       "target                   1.000000\n",
       "Name: target, dtype: float64"
      ]
     },
     "execution_count": 26,
     "metadata": {},
     "output_type": "execute_result"
    }
   ],
   "source": [
    "efs.find_corr_for_category('payment', df)                "
   ]
  },
  {
   "cell_type": "code",
   "execution_count": 27,
   "metadata": {},
   "outputs": [
    {
     "data": {
      "text/plain": [
       "monthly      -0.115907\n",
       "annually     -0.111824\n",
       "per bucket   -0.107183\n",
       "on failure   -0.046517\n",
       "other        -0.017003\n",
       "unknown       0.104204\n",
       "never pay     0.167728\n",
       "target        1.000000\n",
       "Name: target, dtype: float64"
      ]
     },
     "execution_count": 27,
     "metadata": {},
     "output_type": "execute_result"
    }
   ],
   "source": [
    "efs.find_corr_for_category('payment_type', df)        "
   ]
  },
  {
   "cell_type": "markdown",
   "metadata": {},
   "source": [
    "**identical columns**"
   ]
  },
  {
   "cell_type": "code",
   "execution_count": 28,
   "metadata": {},
   "outputs": [],
   "source": [
    "df.drop('payment_type', axis =1, inplace=True)"
   ]
  },
  {
   "cell_type": "markdown",
   "metadata": {},
   "source": [
    "#### Water quality: water_quality, quality_group"
   ]
  },
  {
   "cell_type": "code",
   "execution_count": 29,
   "metadata": {},
   "outputs": [
    {
     "name": "stdout",
     "output_type": "stream",
     "text": [
      "Unique values for Water_quality :  ['soft' 'salty' 'milky' 'fluoride' 'coloured' 'salty abandoned' 'unknown'\n",
      " 'fluoride abandoned'] \n",
      "Number of unique values =  8\n",
      "\n",
      "Unique values for Quality_group :  ['good' 'salty' 'milky' 'fluoride' 'colored' 'unknown'] \n",
      "Number of unique values =  6\n",
      "\n"
     ]
    }
   ],
   "source": [
    "unique_values(['water_quality', 'quality_group'], df)"
   ]
  },
  {
   "cell_type": "code",
   "execution_count": 30,
   "metadata": {},
   "outputs": [
    {
     "data": {
      "text/plain": [
       "soft                 -0.128696\n",
       "fluoride             -0.024282\n",
       "salty abandoned      -0.004743\n",
       "coloured              0.003254\n",
       "milky                 0.004518\n",
       "fluoride abandoned    0.008308\n",
       "salty                 0.062419\n",
       "unknown               0.165308\n",
       "target                1.000000\n",
       "Name: target, dtype: float64"
      ]
     },
     "execution_count": 30,
     "metadata": {},
     "output_type": "execute_result"
    }
   ],
   "source": [
    "efs.find_corr_for_category('water_quality', df)"
   ]
  },
  {
   "cell_type": "code",
   "execution_count": 31,
   "metadata": {},
   "outputs": [
    {
     "data": {
      "text/plain": [
       "good       -0.128696\n",
       "fluoride   -0.020889\n",
       "colored     0.003254\n",
       "milky       0.004518\n",
       "salty       0.059196\n",
       "unknown     0.165308\n",
       "target      1.000000\n",
       "Name: target, dtype: float64"
      ]
     },
     "execution_count": 31,
     "metadata": {},
     "output_type": "execute_result"
    }
   ],
   "source": [
    "efs.find_corr_for_category('quality_group', df)"
   ]
  },
  {
   "cell_type": "markdown",
   "metadata": {},
   "source": [
    "Since `water_quality'` is giving us more information at the price of adding only 2 unique values, I'll drop `quality_group` here"
   ]
  },
  {
   "cell_type": "code",
   "execution_count": 32,
   "metadata": {},
   "outputs": [],
   "source": [
    "df.drop('quality_group', axis=1, inplace=True)"
   ]
  },
  {
   "cell_type": "markdown",
   "metadata": {},
   "source": [
    "#### Water quantity: `quantity`, `quantity_group`"
   ]
  },
  {
   "cell_type": "code",
   "execution_count": 33,
   "metadata": {},
   "outputs": [
    {
     "name": "stdout",
     "output_type": "stream",
     "text": [
      "Unique values for Quantity :  ['insufficient' 'enough' 'dry' 'seasonal' 'unknown'] \n",
      "Number of unique values =  5\n",
      "\n",
      "Unique values for Quantity_group :  ['insufficient' 'enough' 'dry' 'seasonal' 'unknown'] \n",
      "Number of unique values =  5\n",
      "\n"
     ]
    }
   ],
   "source": [
    "unique_values(['quantity', 'quantity_group'], df)"
   ]
  },
  {
   "cell_type": "markdown",
   "metadata": {},
   "source": [
    "Duplicates! cross checking correlaton and dropping one"
   ]
  },
  {
   "cell_type": "code",
   "execution_count": 34,
   "metadata": {},
   "outputs": [
    {
     "data": {
      "text/plain": [
       "enough         -0.261293\n",
       "seasonal       -0.026263\n",
       "insufficient    0.011329\n",
       "unknown         0.071627\n",
       "dry             0.400253\n",
       "target          1.000000\n",
       "Name: target, dtype: float64"
      ]
     },
     "execution_count": 34,
     "metadata": {},
     "output_type": "execute_result"
    }
   ],
   "source": [
    "efs.find_corr_for_category('quantity', df)"
   ]
  },
  {
   "cell_type": "code",
   "execution_count": 35,
   "metadata": {},
   "outputs": [
    {
     "data": {
      "text/plain": [
       "enough         -0.261293\n",
       "seasonal       -0.026263\n",
       "insufficient    0.011329\n",
       "unknown         0.071627\n",
       "dry             0.400253\n",
       "target          1.000000\n",
       "Name: target, dtype: float64"
      ]
     },
     "execution_count": 35,
     "metadata": {},
     "output_type": "execute_result"
    }
   ],
   "source": [
    "efs.find_corr_for_category('quantity_group', df)"
   ]
  },
  {
   "cell_type": "code",
   "execution_count": 36,
   "metadata": {},
   "outputs": [],
   "source": [
    "df.drop('quantity_group', axis=1, inplace=True)"
   ]
  },
  {
   "cell_type": "markdown",
   "metadata": {},
   "source": [
    "#### Source: `source`, `source_type`, `source_class`"
   ]
  },
  {
   "cell_type": "code",
   "execution_count": 37,
   "metadata": {},
   "outputs": [
    {
     "name": "stdout",
     "output_type": "stream",
     "text": [
      "Unique values for Source :  ['shallow well' 'river' 'spring' 'machine dbh' 'lake' 'other'\n",
      " 'rainwater harvesting' 'unknown' 'hand dtw' 'dam'] \n",
      "Number of unique values =  10\n",
      "\n",
      "Unique values for Source_type :  ['shallow well' 'river/lake' 'spring' 'borehole' 'other'\n",
      " 'rainwater harvesting' 'dam'] \n",
      "Number of unique values =  7\n",
      "\n",
      "Unique values for Source_class :  ['groundwater' 'surface' 'unknown'] \n",
      "Number of unique values =  3\n",
      "\n"
     ]
    }
   ],
   "source": [
    "unique_values(['source', 'source_type', 'source_class'], df)"
   ]
  },
  {
   "cell_type": "markdown",
   "metadata": {},
   "source": [
    "Looking at the correlation for each of these features:"
   ]
  },
  {
   "cell_type": "code",
   "execution_count": 38,
   "metadata": {},
   "outputs": [
    {
     "data": {
      "text/plain": [
       "spring                 -0.101797\n",
       "river                  -0.054373\n",
       "rainwater harvesting   -0.040127\n",
       "hand dtw               -0.001031\n",
       "unknown                 0.002549\n",
       "other                   0.003961\n",
       "dam                     0.043467\n",
       "shallow well            0.070211\n",
       "machine dbh             0.070429\n",
       "lake                    0.088294\n",
       "target                  1.000000\n",
       "Name: target, dtype: float64"
      ]
     },
     "execution_count": 38,
     "metadata": {},
     "output_type": "execute_result"
    }
   ],
   "source": [
    "efs.find_corr_for_category('source', df)"
   ]
  },
  {
   "cell_type": "code",
   "execution_count": 39,
   "metadata": {},
   "outputs": [
    {
     "data": {
      "text/plain": [
       "spring                 -0.101797\n",
       "rainwater harvesting   -0.040127\n",
       "river/lake             -0.026388\n",
       "other                   0.004703\n",
       "dam                     0.043467\n",
       "borehole                0.068088\n",
       "shallow well            0.070211\n",
       "target                  1.000000\n",
       "Name: target, dtype: float64"
      ]
     },
     "execution_count": 39,
     "metadata": {},
     "output_type": "execute_result"
    }
   ],
   "source": [
    "efs.find_corr_for_category('source_type', df)"
   ]
  },
  {
   "cell_type": "code",
   "execution_count": 40,
   "metadata": {},
   "outputs": [
    {
     "data": {
      "text/plain": [
       "surface       -0.031680\n",
       "unknown        0.004703\n",
       "groundwater    0.030699\n",
       "target         1.000000\n",
       "Name: target, dtype: float64"
      ]
     },
     "execution_count": 40,
     "metadata": {},
     "output_type": "execute_result"
    }
   ],
   "source": [
    "efs.find_corr_for_category('source_class', df)"
   ]
  },
  {
   "cell_type": "markdown",
   "metadata": {},
   "source": [
    "Decided to **drop** `source_class` and visualize the other two options"
   ]
  },
  {
   "cell_type": "code",
   "execution_count": 41,
   "metadata": {},
   "outputs": [
    {
     "data": {
      "image/png": "[encoded data removed]",
      "text/plain": [
       "<Figure size 1440x576 with 1 Axes>"
      ]
     },
     "metadata": {
      "needs_background": "light"
     },
     "output_type": "display_data"
    }
   ],
   "source": [
    "efs.plot_relation_with_target('source', df)"
   ]
  },
  {
   "cell_type": "code",
   "execution_count": 42,
   "metadata": {},
   "outputs": [
    {
     "data": {
      "image/png": "[encoded data removed]",
      "text/plain": [
       "<Figure size 1440x576 with 1 Axes>"
      ]
     },
     "metadata": {
      "needs_background": "light"
     },
     "output_type": "display_data"
    }
   ],
   "source": [
    "efs.plot_relation_with_target('source_type', df)"
   ]
  },
  {
   "cell_type": "markdown",
   "metadata": {},
   "source": [
    "**Dropping** `source_type` as I noticed it combines lake and river into one category, but when you observe closely, lake has a stronger relation with non-functional waterpoints, wehereas river has a stronger relation with functional. Let's keep them divided then and **opt** for `Source`"
   ]
  },
  {
   "cell_type": "code",
   "execution_count": 43,
   "metadata": {},
   "outputs": [],
   "source": [
    "df.drop(['source_type', 'source_class'], axis=1, inplace=True)"
   ]
  },
  {
   "cell_type": "code",
   "execution_count": 44,
   "metadata": {},
   "outputs": [
    {
     "data": {
      "text/html": [
       "<div>\n",
       "<style scoped>\n",
       "    .dataframe tbody tr th:only-of-type {\n",
       "        vertical-align: middle;\n",
       "    }\n",
       "\n",
       "    .dataframe tbody tr th {\n",
       "        vertical-align: top;\n",
       "    }\n",
       "\n",
       "    .dataframe thead th {\n",
       "        text-align: right;\n",
       "    }\n",
       "</style>\n",
       "<table border=\"1\" class=\"dataframe\">\n",
       "  <thead>\n",
       "    <tr style=\"text-align: right;\">\n",
       "      <th></th>\n",
       "      <th>target</th>\n",
       "      <th>amount_tsh</th>\n",
       "      <th>funder</th>\n",
       "      <th>gps_height</th>\n",
       "      <th>installer</th>\n",
       "      <th>basin</th>\n",
       "      <th>region</th>\n",
       "      <th>region_code</th>\n",
       "      <th>district_code</th>\n",
       "      <th>lga</th>\n",
       "      <th>...</th>\n",
       "      <th>construction_year</th>\n",
       "      <th>extraction_type</th>\n",
       "      <th>extraction_type_group</th>\n",
       "      <th>management</th>\n",
       "      <th>payment</th>\n",
       "      <th>water_quality</th>\n",
       "      <th>quantity</th>\n",
       "      <th>source</th>\n",
       "      <th>waterpoint_type</th>\n",
       "      <th>waterpoint_type_group</th>\n",
       "    </tr>\n",
       "  </thead>\n",
       "  <tbody>\n",
       "    <tr>\n",
       "      <th>0</th>\n",
       "      <td>0</td>\n",
       "      <td>0.0</td>\n",
       "      <td>P</td>\n",
       "      <td>0</td>\n",
       "      <td>P</td>\n",
       "      <td>Lake Victoria</td>\n",
       "      <td>Mwanza</td>\n",
       "      <td>19</td>\n",
       "      <td>8</td>\n",
       "      <td>Ilemela</td>\n",
       "      <td>...</td>\n",
       "      <td>0</td>\n",
       "      <td>nira/tanira</td>\n",
       "      <td>nira/tanira</td>\n",
       "      <td>vwc</td>\n",
       "      <td>pay monthly</td>\n",
       "      <td>soft</td>\n",
       "      <td>insufficient</td>\n",
       "      <td>shallow well</td>\n",
       "      <td>hand pump</td>\n",
       "      <td>hand pump</td>\n",
       "    </tr>\n",
       "    <tr>\n",
       "      <th>1</th>\n",
       "      <td>0</td>\n",
       "      <td>1200.0</td>\n",
       "      <td>Government Of Tanzania</td>\n",
       "      <td>1228</td>\n",
       "      <td>DWE</td>\n",
       "      <td>Lake Tanganyika</td>\n",
       "      <td>Kigoma</td>\n",
       "      <td>16</td>\n",
       "      <td>2</td>\n",
       "      <td>Kasulu</td>\n",
       "      <td>...</td>\n",
       "      <td>2002</td>\n",
       "      <td>gravity</td>\n",
       "      <td>gravity</td>\n",
       "      <td>water board</td>\n",
       "      <td>pay annually</td>\n",
       "      <td>soft</td>\n",
       "      <td>enough</td>\n",
       "      <td>river</td>\n",
       "      <td>communal standpipe</td>\n",
       "      <td>communal standpipe</td>\n",
       "    </tr>\n",
       "    <tr>\n",
       "      <th>2</th>\n",
       "      <td>0</td>\n",
       "      <td>0.0</td>\n",
       "      <td>Tasaf</td>\n",
       "      <td>0</td>\n",
       "      <td>DWE</td>\n",
       "      <td>Lake Tanganyika</td>\n",
       "      <td>Shinyanga</td>\n",
       "      <td>17</td>\n",
       "      <td>5</td>\n",
       "      <td>Bukombe</td>\n",
       "      <td>...</td>\n",
       "      <td>0</td>\n",
       "      <td>nira/tanira</td>\n",
       "      <td>nira/tanira</td>\n",
       "      <td>wug</td>\n",
       "      <td>unknown</td>\n",
       "      <td>soft</td>\n",
       "      <td>enough</td>\n",
       "      <td>shallow well</td>\n",
       "      <td>hand pump</td>\n",
       "      <td>hand pump</td>\n",
       "    </tr>\n",
       "    <tr>\n",
       "      <th>3</th>\n",
       "      <td>2</td>\n",
       "      <td>0.0</td>\n",
       "      <td>World Vision</td>\n",
       "      <td>954</td>\n",
       "      <td>World vision</td>\n",
       "      <td>Pangani</td>\n",
       "      <td>Manyara</td>\n",
       "      <td>21</td>\n",
       "      <td>4</td>\n",
       "      <td>Simanjiro</td>\n",
       "      <td>...</td>\n",
       "      <td>2003</td>\n",
       "      <td>other</td>\n",
       "      <td>other</td>\n",
       "      <td>wug</td>\n",
       "      <td>unknown</td>\n",
       "      <td>salty</td>\n",
       "      <td>insufficient</td>\n",
       "      <td>shallow well</td>\n",
       "      <td>other</td>\n",
       "      <td>other</td>\n",
       "    </tr>\n",
       "    <tr>\n",
       "      <th>4</th>\n",
       "      <td>0</td>\n",
       "      <td>0.0</td>\n",
       "      <td>NaN</td>\n",
       "      <td>0</td>\n",
       "      <td>NaN</td>\n",
       "      <td>Lake Nyasa</td>\n",
       "      <td>Mbeya</td>\n",
       "      <td>12</td>\n",
       "      <td>4</td>\n",
       "      <td>Rungwe</td>\n",
       "      <td>...</td>\n",
       "      <td>0</td>\n",
       "      <td>gravity</td>\n",
       "      <td>gravity</td>\n",
       "      <td>vwc</td>\n",
       "      <td>never pay</td>\n",
       "      <td>soft</td>\n",
       "      <td>insufficient</td>\n",
       "      <td>spring</td>\n",
       "      <td>communal standpipe</td>\n",
       "      <td>communal standpipe</td>\n",
       "    </tr>\n",
       "  </tbody>\n",
       "</table>\n",
       "<p>5 rows × 24 columns</p>\n",
       "</div>"
      ],
      "text/plain": [
       "   target  amount_tsh                  funder  gps_height     installer  \\\n",
       "0       0         0.0                       P           0             P   \n",
       "1       0      1200.0  Government Of Tanzania        1228           DWE   \n",
       "2       0         0.0                   Tasaf           0           DWE   \n",
       "3       2         0.0            World Vision         954  World vision   \n",
       "4       0         0.0                     NaN           0           NaN   \n",
       "\n",
       "             basin     region  region_code  district_code        lga  ...  \\\n",
       "0    Lake Victoria     Mwanza           19              8    Ilemela  ...   \n",
       "1  Lake Tanganyika     Kigoma           16              2     Kasulu  ...   \n",
       "2  Lake Tanganyika  Shinyanga           17              5    Bukombe  ...   \n",
       "3          Pangani    Manyara           21              4  Simanjiro  ...   \n",
       "4       Lake Nyasa      Mbeya           12              4     Rungwe  ...   \n",
       "\n",
       "   construction_year extraction_type extraction_type_group   management  \\\n",
       "0                  0     nira/tanira           nira/tanira          vwc   \n",
       "1               2002         gravity               gravity  water board   \n",
       "2                  0     nira/tanira           nira/tanira          wug   \n",
       "3               2003           other                 other          wug   \n",
       "4                  0         gravity               gravity          vwc   \n",
       "\n",
       "        payment water_quality      quantity        source     waterpoint_type  \\\n",
       "0   pay monthly          soft  insufficient  shallow well           hand pump   \n",
       "1  pay annually          soft        enough         river  communal standpipe   \n",
       "2       unknown          soft        enough  shallow well           hand pump   \n",
       "3       unknown         salty  insufficient  shallow well               other   \n",
       "4     never pay          soft  insufficient        spring  communal standpipe   \n",
       "\n",
       "  waterpoint_type_group  \n",
       "0             hand pump  \n",
       "1    communal standpipe  \n",
       "2             hand pump  \n",
       "3                 other  \n",
       "4    communal standpipe  \n",
       "\n",
       "[5 rows x 24 columns]"
      ]
     },
     "execution_count": 44,
     "metadata": {},
     "output_type": "execute_result"
    }
   ],
   "source": [
    "df.head(5)"
   ]
  },
  {
   "cell_type": "markdown",
   "metadata": {},
   "source": [
    "#### Waterpoint type: `waterpoint_type`, `waterpoint_type_group`"
   ]
  },
  {
   "cell_type": "code",
   "execution_count": 45,
   "metadata": {},
   "outputs": [
    {
     "name": "stdout",
     "output_type": "stream",
     "text": [
      "Unique values for Waterpoint_type :  ['hand pump' 'communal standpipe' 'other' 'communal standpipe multiple'\n",
      " 'improved spring' 'cattle trough' 'dam'] \n",
      "Number of unique values =  7\n",
      "\n",
      "Unique values for Waterpoint_type_group :  ['hand pump' 'communal standpipe' 'other' 'improved spring'\n",
      " 'cattle trough' 'dam'] \n",
      "Number of unique values =  6\n",
      "\n"
     ]
    }
   ],
   "source": [
    "unique_values(['waterpoint_type', 'waterpoint_type_group'], df)"
   ]
  },
  {
   "cell_type": "code",
   "execution_count": 46,
   "metadata": {},
   "outputs": [
    {
     "data": {
      "text/plain": [
       "communal standpipe            -0.162071\n",
       "hand pump                     -0.091720\n",
       "improved spring               -0.053595\n",
       "cattle trough                 -0.018131\n",
       "dam                           -0.004908\n",
       "communal standpipe multiple    0.112750\n",
       "other                          0.308647\n",
       "target                         1.000000\n",
       "Name: target, dtype: float64"
      ]
     },
     "execution_count": 46,
     "metadata": {},
     "output_type": "execute_result"
    }
   ],
   "source": [
    "efs.find_corr_for_category('waterpoint_type', df)"
   ]
  },
  {
   "cell_type": "code",
   "execution_count": 47,
   "metadata": {},
   "outputs": [
    {
     "data": {
      "text/plain": [
       "communal standpipe   -0.094769\n",
       "hand pump            -0.091720\n",
       "improved spring      -0.053595\n",
       "cattle trough        -0.018131\n",
       "dam                  -0.004908\n",
       "other                 0.308647\n",
       "target                1.000000\n",
       "Name: target, dtype: float64"
      ]
     },
     "execution_count": 47,
     "metadata": {},
     "output_type": "execute_result"
    }
   ],
   "source": [
    "efs.find_corr_for_category('waterpoint_type_group', df)"
   ]
  },
  {
   "cell_type": "markdown",
   "metadata": {},
   "source": [
    "communal standpipe & communal standpipe multiple have been combined in `waterpoint_type_group` Let's keep them apart and go with `waterpoint_type`"
   ]
  },
  {
   "cell_type": "code",
   "execution_count": 48,
   "metadata": {},
   "outputs": [],
   "source": [
    "df.drop('waterpoint_type_group', axis=1, inplace=True)"
   ]
  },
  {
   "cell_type": "code",
   "execution_count": 49,
   "metadata": {},
   "outputs": [
    {
     "data": {
      "text/plain": [
       "Index(['target', 'amount_tsh', 'funder', 'gps_height', 'installer', 'basin',\n",
       "       'region', 'region_code', 'district_code', 'lga', 'population',\n",
       "       'public_meeting', 'scheme_management', 'permit', 'construction_year',\n",
       "       'extraction_type', 'extraction_type_group', 'management', 'payment',\n",
       "       'water_quality', 'quantity', 'source', 'waterpoint_type'],\n",
       "      dtype='object')"
      ]
     },
     "execution_count": 49,
     "metadata": {},
     "output_type": "execute_result"
    }
   ],
   "source": [
    "df.columns"
   ]
  },
  {
   "cell_type": "markdown",
   "metadata": {},
   "source": [
    "#### Last check\n",
    "\n",
    "Let's look into `installer` and `funder`"
   ]
  },
  {
   "cell_type": "code",
   "execution_count": 50,
   "metadata": {},
   "outputs": [
    {
     "name": "stdout",
     "output_type": "stream",
     "text": [
      "Unique values for Installer :  ['P' 'DWE' 'World vision' ... 'SUMO' 'STABEX' 'Biore'] \n",
      "Number of unique values =  1868\n",
      "\n",
      "Unique values for Funder :  ['P' 'Government Of Tanzania' 'Tasaf' ... 'Sumo' 'Stabex'\n",
      " 'Answeer Muslim Grou'] \n",
      "Number of unique values =  1647\n",
      "\n"
     ]
    }
   ],
   "source": [
    "unique_values(['installer', 'funder'], df)"
   ]
  },
  {
   "cell_type": "code",
   "execution_count": 51,
   "metadata": {},
   "outputs": [
    {
     "data": {
      "text/plain": [
       "3515"
      ]
     },
     "execution_count": 51,
     "metadata": {},
     "output_type": "execute_result"
    }
   ],
   "source": [
    "1868+1647"
   ]
  },
  {
   "cell_type": "markdown",
   "metadata": {},
   "source": [
    "Although the funder or installer may have an impact on the functionality of the waterpoint, creating 3515 extra OneHotEncoded columns might just not work for our model runtime. Let's drop these for now."
   ]
  },
  {
   "cell_type": "code",
   "execution_count": 52,
   "metadata": {},
   "outputs": [],
   "source": [
    "df.drop(['installer', 'funder'], axis=1, inplace=True)"
   ]
  },
  {
   "cell_type": "code",
   "execution_count": 53,
   "metadata": {},
   "outputs": [
    {
     "data": {
      "text/plain": [
       "(44550, 21)"
      ]
     },
     "execution_count": 53,
     "metadata": {},
     "output_type": "execute_result"
    }
   ],
   "source": [
    "df.shape"
   ]
  },
  {
   "cell_type": "markdown",
   "metadata": {},
   "source": [
    "We can work with 21 columns! Will definitely further subset since we still have many features that are similar but couldn't be dropped due to uncertainity. Such as:\n",
    "* `region`, `region_code`, `district_code`, `lga`\n",
    "* `extraction_type`, `extraction_type_group`"
   ]
  },
  {
   "cell_type": "code",
   "execution_count": 54,
   "metadata": {},
   "outputs": [
    {
     "data": {
      "text/plain": [
       "Index(['target', 'amount_tsh', 'gps_height', 'basin', 'region', 'region_code',\n",
       "       'district_code', 'lga', 'population', 'public_meeting',\n",
       "       'scheme_management', 'permit', 'construction_year', 'extraction_type',\n",
       "       'extraction_type_group', 'management', 'payment', 'water_quality',\n",
       "       'quantity', 'source', 'waterpoint_type'],\n",
       "      dtype='object')"
      ]
     },
     "execution_count": 54,
     "metadata": {},
     "output_type": "execute_result"
    }
   ],
   "source": [
    "df.columns"
   ]
  },
  {
   "cell_type": "markdown",
   "metadata": {},
   "source": [
    "#### Takeaways from this Notebook:\n",
    "* We identified many duplicate columns\n",
    "* Dropped those duplicates and other columns that didn't contribute to the classification goal\n",
    "* the dropped columns are : \n",
    "`id`, `date_recorded`, `recorded_by`, `wpt_name`, `scheme_name`,`num_private`, `subvillage`, `ward`, `longitude`, `latitude`, `extraction_type_class`, `management_group`, `payment_type`, `quality_group`, `quantity_group`, `source_type`, `source_class`, `waterpoint_type_group`, `installer`, `funder`"
   ]
  },
  {
   "cell_type": "markdown",
   "metadata": {},
   "source": [
    "#### Next steps:\n",
    "* Automate data cleaning and drop all the extra features\n",
    "* Start Modeling"
   ]
  },
  {
   "cell_type": "code",
   "execution_count": null,
   "metadata": {},
   "outputs": [],
   "source": []
  }
 ],
 "metadata": {
  "kernelspec": {
   "display_name": "Python 3 (Tanzania)",
   "language": "python",
   "name": "tanzania"
  },
  "language_info": {
   "codemirror_mode": {
    "name": "ipython",
    "version": 3
   },
   "file_extension": ".py",
   "mimetype": "text/x-python",
   "name": "python",
   "nbconvert_exporter": "python",
   "pygments_lexer": "ipython3",
   "version": "3.7.6"
  }
 },
 "nbformat": 4,
 "nbformat_minor": 4
}
