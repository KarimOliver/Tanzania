{
 "cells": [
  {
   "cell_type": "markdown",
   "metadata": {},
   "source": [
    "## First Models"
   ]
  },
  {
   "cell_type": "markdown",
   "metadata": {},
   "source": [
    "In this notebook all I really want to do is see if all the custom functions written before work and transform the dataset seamlessly or not. Then try out a few basic classification models and see if they work at all for ternary classification."
   ]
  },
  {
   "cell_type": "code",
   "execution_count": 1,
   "metadata": {},
   "outputs": [],
   "source": [
    "%load_ext autoreload\n",
    "%autoreload 2\n"
   ]
  },
  {
   "cell_type": "code",
   "execution_count": 2,
   "metadata": {},
   "outputs": [],
   "source": [
    "#import\n",
    "import os, sys\n",
    "import numpy as np\n",
    "import pandas as pd\n",
    "import matplotlib.pyplot as plt\n",
    "import seaborn as sns\n",
    "%matplotlib inline\n",
    "from sklearn.model_selection import train_test_split\n",
    "from sklearn.preprocessing import LabelEncoder, OneHotEncoder"
   ]
  },
  {
   "cell_type": "code",
   "execution_count": 3,
   "metadata": {},
   "outputs": [],
   "source": [
    "module_path = os.path.abspath(os.path.join(os.pardir, os.pardir))\n",
    "if module_path not in sys.path:\n",
    "    sys.path.append(module_path)"
   ]
  },
  {
   "cell_type": "code",
   "execution_count": 4,
   "metadata": {},
   "outputs": [],
   "source": [
    "#import customized functions\n",
    "from src.data_cleaning import cleaning_functions as cfs\n",
    "from src.data_cleaning import exploration_functions as efs\n",
    "from src.data_cleaning import processing_functions as pfs"
   ]
  },
  {
   "cell_type": "code",
   "execution_count": 5,
   "metadata": {},
   "outputs": [],
   "source": [
    "X_train, X_test, y_train, y_test, classes_dict = pfs.processed_dataset()"
   ]
  },
  {
   "cell_type": "code",
   "execution_count": 6,
   "metadata": {},
   "outputs": [],
   "source": [
    "X_train, encoders = pfs.ohe_all_categorical_features(X_train)"
   ]
  },
  {
   "cell_type": "code",
   "execution_count": 7,
   "metadata": {},
   "outputs": [],
   "source": [
    "from sklearn.linear_model import LogisticRegression"
   ]
  },
  {
   "cell_type": "code",
   "execution_count": 8,
   "metadata": {},
   "outputs": [],
   "source": [
    "#lr = LogisticRegression(random_state= 2020, max_iter=1000)\n",
    "#fsm = lr.fit(X_train, y_train)"
   ]
  },
  {
   "cell_type": "markdown",
   "metadata": {},
   "source": [
    "Need to fix these but moving along for now...."
   ]
  },
  {
   "cell_type": "code",
   "execution_count": 9,
   "metadata": {},
   "outputs": [],
   "source": [
    "from sklearn.metrics import confusion_matrix, plot_confusion_matrix, classification_report"
   ]
  },
  {
   "cell_type": "code",
   "execution_count": 10,
   "metadata": {},
   "outputs": [],
   "source": [
    "#confusion_matrix(y_train, fsm.predict(X_train))"
   ]
  },
  {
   "cell_type": "code",
   "execution_count": 11,
   "metadata": {},
   "outputs": [],
   "source": [
    "#plot_confusion_matrix(fsm, X_train, y_train, cmap='Blues');"
   ]
  },
  {
   "cell_type": "markdown",
   "metadata": {},
   "source": [
    "**Yikes that doesn't work at all**"
   ]
  },
  {
   "cell_type": "markdown",
   "metadata": {},
   "source": [
    "#### DecisionTreeClassifier"
   ]
  },
  {
   "cell_type": "code",
   "execution_count": 12,
   "metadata": {},
   "outputs": [
    {
     "data": {
      "text/plain": [
       "array([[0.98024661, 0.0049899 , 0.0147635 ],\n",
       "       [0.18736177, 0.77030016, 0.04233807],\n",
       "       [0.07096172, 0.00606909, 0.92296919]])"
      ]
     },
     "execution_count": 12,
     "metadata": {},
     "output_type": "execute_result"
    }
   ],
   "source": [
    "from sklearn.tree import DecisionTreeClassifier\n",
    "dt = DecisionTreeClassifier(random_state=2020)\n",
    "fsm2 = dt.fit(X_train, y_train)\n",
    "confusion_matrix(y_train, fsm2.predict(X_train), normalize='true')"
   ]
  },
  {
   "cell_type": "code",
   "execution_count": 13,
   "metadata": {},
   "outputs": [
    {
     "data": {
      "image/png": "[encoded data removed]",
      "text/plain": [
       "<Figure size 432x288 with 2 Axes>"
      ]
     },
     "metadata": {
      "needs_background": "light"
     },
     "output_type": "display_data"
    }
   ],
   "source": [
    "plot_confusion_matrix(fsm2, X_train, y_train, cmap='Blues', values_format='d');"
   ]
  },
  {
   "cell_type": "code",
   "execution_count": 14,
   "metadata": {},
   "outputs": [
    {
     "name": "stdout",
     "output_type": "stream",
     "text": [
      "              precision    recall  f1-score   support\n",
      "\n",
      "           0       0.93      0.98      0.95     24249\n",
      "           1       0.92      0.77      0.84      3165\n",
      "           2       0.97      0.92      0.95     17136\n",
      "\n",
      "    accuracy                           0.94     44550\n",
      "   macro avg       0.94      0.89      0.91     44550\n",
      "weighted avg       0.94      0.94      0.94     44550\n",
      "\n"
     ]
    }
   ],
   "source": [
    "print(classification_report(y_train, fsm2.predict(X_train)))"
   ]
  },
  {
   "cell_type": "code",
   "execution_count": 15,
   "metadata": {},
   "outputs": [
    {
     "data": {
      "text/plain": [
       "0.9432996632996633"
      ]
     },
     "execution_count": 15,
     "metadata": {},
     "output_type": "execute_result"
    }
   ],
   "source": [
    "fsm2.score(X_train, y_train)"
   ]
  },
  {
   "cell_type": "code",
   "execution_count": 21,
   "metadata": {
    "collapsed": true,
    "jupyter": {
     "outputs_hidden": true
    }
   },
   "outputs": [
    {
     "data": {
      "text/plain": [
       "[('amount_tsh', 0.03369635196024298),\n",
       " ('gps_height', 0.15540103556389256),\n",
       " ('population', 0.07672178391344739),\n",
       " ('construction_year', 0.07302790222541795),\n",
       " ('Internal', 0.002818012103915126),\n",
       " ('Lake Nyasa', 0.0025279648598688087),\n",
       " ('Lake Rukwa', 0.001107506070229779),\n",
       " ('Lake Tanganyika', 0.003105869441847515),\n",
       " ('Lake Victoria', 0.0015128813543693151),\n",
       " ('Pangani', 0.002185620910859624),\n",
       " ('Rufiji', 0.002666237345875272),\n",
       " ('Ruvuma / Southern Coast', 0.0016100242694636617),\n",
       " ('Wami / Ruvu', 0.0044702999436997655),\n",
       " ('Arusha', 0.0010441652271387678),\n",
       " ('Dar es Salaam', 0.0),\n",
       " ('Dodoma', 0.002595080593302458),\n",
       " ('Iringa', 0.001207106385421259),\n",
       " ('Kagera', 0.00018425985396768298),\n",
       " ('Kigoma', 0.002287403955901744),\n",
       " ('Kilimanjaro', 0.0016143095803248606),\n",
       " ('Lindi', 0.0010193288351205362),\n",
       " ('Manyara', 0.0005229678005694013),\n",
       " ('Mara', 0.002792933227898155),\n",
       " ('Mbeya', 0.0005130104363695776),\n",
       " ('Morogoro', 0.004922147873772293),\n",
       " ('Mtwara', 0.0006685440248926452),\n",
       " ('Mwanza', 0.0016461777645595253),\n",
       " ('Pwani', 0.0020042785733313667),\n",
       " ('Rukwa', 0.00036397794431041147),\n",
       " ('Ruvuma', 0.0013276045451530896),\n",
       " ('Shinyanga', 0.0008774983374063124),\n",
       " ('Singida', 0.0010645475648067583),\n",
       " ('Tabora', 0.0006767236950062532),\n",
       " ('Tanga', 0.0015464055222523595),\n",
       " ('Arusha Rural', 0.0006562459545161711),\n",
       " ('Arusha Urban', 0.00013384988423303088),\n",
       " ('Babati', 0.00014292062647091482),\n",
       " ('Bagamoyo', 8.069487970450957e-05),\n",
       " ('Bahi', 0.00019769934791851728),\n",
       " ('Bariadi', 0.00526576272538769),\n",
       " ('Biharamulo', 0.00034575359055752803),\n",
       " ('Bukoba Rural', 0.0005364256931331612),\n",
       " ('Bukoba Urban', 2.180769977561531e-05),\n",
       " ('Bukombe', 0.00017651787542449112),\n",
       " ('Bunda', 0.0007219029837183459),\n",
       " ('Chamwino', 0.0),\n",
       " ('Chato', 0.00021904442621545076),\n",
       " ('Chunya', 0.003004411613400292),\n",
       " ('Dodoma Urban', 0.00042776388361004397),\n",
       " ('Geita', 0.002064400138047398),\n",
       " ('Hai', 0.00040606728537729414),\n",
       " ('Hanang', 0.001448075224663985),\n",
       " ('Handeni', 2.644706200369945e-05),\n",
       " ('Igunga', 0.0001984964540005191),\n",
       " ('Ilala', 6.652004455330444e-05),\n",
       " ('Ileje', 0.0005636304554540043),\n",
       " ('Ilemela', 0.0004804128798604644),\n",
       " ('Iramba', 0.00019394318035126476),\n",
       " ('Iringa Rural', 0.0014239126979843848),\n",
       " ('Kahama', 0.0035661822378778556),\n",
       " ('Karagwe', 0.0015188628976533552),\n",
       " ('Karatu', 0.0),\n",
       " ('Kasulu', 0.0018298225552798985),\n",
       " ('Kibaha', 0.00027686448934471155),\n",
       " ('Kibondo', 0.0007842482580656635),\n",
       " ('Kigoma Rural', 0.004896314113490945),\n",
       " ('Kigoma Urban', 0.0003141605772990354),\n",
       " ('Kilindi', 7.006067228572526e-05),\n",
       " ('Kilolo', 0.00027368553364792237),\n",
       " ('Kilombero', 0.0005423896085513415),\n",
       " ('Kilosa', 0.00097599900497181),\n",
       " ('Kilwa', 0.0003033929175407046),\n",
       " ('Kinondoni', 0.00022681047025734232),\n",
       " ('Kisarawe', 0.0005917629668824696),\n",
       " ('Kishapu', 0.0005055319076060469),\n",
       " ('Kiteto', 0.0005257752688250235),\n",
       " ('Kondoa', 0.001095237425611628),\n",
       " ('Kongwa', 0.001561534334685106),\n",
       " ('Korogwe', 8.98489505790122e-05),\n",
       " ('Kwimba', 0.000171623103328978),\n",
       " ('Kyela', 0.0015066823309802702),\n",
       " ('Lindi Rural', 0.0005906995665886606),\n",
       " ('Lindi Urban', 0.0),\n",
       " ('Liwale', 8.852171636156261e-05),\n",
       " ('Longido', 9.233462460326463e-05),\n",
       " ('Ludewa', 0.0002457364301644881),\n",
       " ('Lushoto', 0.001118827347011232),\n",
       " ('Mafia', 4.0362226898314174e-05),\n",
       " ('Magu', 0.0017555163636116256),\n",
       " ('Makete', 0.0),\n",
       " ('Manyoni', 0.0002328169048154515),\n",
       " ('Masasi', 0.000606322760763209),\n",
       " ('Maswa', 0.001277393345039199),\n",
       " ('Mbarali', 0.0010404538524825104),\n",
       " ('Mbeya Rural', 0.00010876652076296167),\n",
       " ('Mbinga', 9.163563434964097e-05),\n",
       " ('Mbozi', 0.0003358629586871884),\n",
       " ('Mbulu', 0.0006779529815840382),\n",
       " ('Meatu', 0.00033287800787923594),\n",
       " ('Meru', 0.0011911539483150184),\n",
       " ('Misenyi', 0.0008510114352592982),\n",
       " ('Missungwi', 0.00028069011435421473),\n",
       " ('Mkinga', 0.0006215566446916508),\n",
       " ('Mkuranga', 0.0002786310487028848),\n",
       " ('Monduli', 0.0007762379977046027),\n",
       " ('Morogoro Rural', 0.0003003561922949921),\n",
       " ('Morogoro Urban', 0.0002006045392253573),\n",
       " ('Moshi Rural', 0.0018067939917166716),\n",
       " ('Moshi Urban', 0.0),\n",
       " ('Mpanda', 7.597148313031757e-05),\n",
       " ('Mpwapwa', 0.0010308709981990244),\n",
       " ('Mtwara Rural', 0.00038294183955551076),\n",
       " ('Mtwara Urban', 0.0),\n",
       " ('Mufindi', 0.00041223401459558747),\n",
       " ('Muheza', 0.00021035989423032913),\n",
       " ('Muleba', 0.00013051181169068858),\n",
       " ('Musoma Rural', 0.0001419613687635811),\n",
       " ('Mvomero', 0.0008363231317691053),\n",
       " ('Mwanga', 0.0005510476281401786),\n",
       " ('Nachingwea', 0.0),\n",
       " ('Namtumbo', 0.00038308154484747195),\n",
       " ('Nanyumbu', 0.0),\n",
       " ('Newala', 0.00027943368093591767),\n",
       " ('Ngara', 0.0004984885408197953),\n",
       " ('Ngorongoro', 0.000558358790408933),\n",
       " ('Njombe', 0.00053202279757538),\n",
       " ('Nkasi', 8.087286913872541e-05),\n",
       " ('Nyamagana', 0.0),\n",
       " ('Nzega', 0.00025282179837638423),\n",
       " ('Pangani', 0.0012573430483600653),\n",
       " ('Rombo', 0.003412028520927412),\n",
       " ('Rorya', 0.00034468836268999463),\n",
       " ('Ruangwa', 0.001004082125221927),\n",
       " ('Rufiji', 0.0001054594078032029),\n",
       " ('Rungwe', 0.0),\n",
       " ('Same', 0.0007231549160214085),\n",
       " ('Sengerema', 0.0018275190477362749),\n",
       " ('Serengeti', 0.00206099730015668),\n",
       " ('Shinyanga Rural', 0.0018677387656293926),\n",
       " ('Shinyanga Urban', 0.00040939161194854956),\n",
       " ('Siha', 0.000325070219393151),\n",
       " ('Sikonge', 5.630350526686078e-05),\n",
       " ('Simanjiro', 0.000697857550070287),\n",
       " ('Singida Rural', 0.0008514642341204116),\n",
       " ('Singida Urban', 0.0002573798353631457),\n",
       " ('Songea Rural', 0.00028986380839204163),\n",
       " ('Songea Urban', 1.6932923572964712e-05),\n",
       " ('Sumbawanga Rural', 0.0),\n",
       " ('Sumbawanga Urban', 0.00019794566094941067),\n",
       " ('Tabora Urban', 5.3353628945686854e-05),\n",
       " ('Tandahimba', 0.00012022520696867016),\n",
       " ('Tanga', 0.00024657468790125484),\n",
       " ('Tarime', 5.50756299844261e-05),\n",
       " ('Temeke', 0.0),\n",
       " ('Tunduru', 0.0008569078725722297),\n",
       " ('Ukerewe', 0.0010522285753300528),\n",
       " ('Ulanga', 0.0008755110720742311),\n",
       " ('Urambo', 0.00027326823538615465),\n",
       " ('Uyui', 0.0009517932998596756),\n",
       " ('False', 0.003932121413283605),\n",
       " ('True', 0.004487729093861736),\n",
       " ('unknown', 0.002798480412313529),\n",
       " ('Company', 0.0010791941156265193),\n",
       " ('Other', 0.0005265448147644362),\n",
       " ('Parastatal', 0.0009430286501701508),\n",
       " ('Private operator', 0.00041072881029650705),\n",
       " ('SWC', 0.0003047796849974916),\n",
       " ('Trust', 0.0001807545046710324),\n",
       " ('VWC', 0.00720175887541596),\n",
       " ('WUA', 0.001123328118390952),\n",
       " ('WUG', 0.0036920112495534493),\n",
       " ('Water Board', 0.0011107741501666989),\n",
       " ('Water authority', 0.004629644136635876),\n",
       " ('unknown', 0.0021108935835333084),\n",
       " ('False', 0.004706892767791756),\n",
       " ('True', 0.006348883648462562),\n",
       " ('unknown', 0.0011940515149004576),\n",
       " ('afridev', 0.0011441513042603354),\n",
       " ('cemo', 8.929251030933228e-05),\n",
       " ('climax', 0.0),\n",
       " ('gravity', 0.008891029222563192),\n",
       " ('india mark ii', 0.002127807591494704),\n",
       " ('india mark iii', 0.00020050868608993667),\n",
       " ('ksb', 0.005758505064134848),\n",
       " ('mono', 0.001287239636934784),\n",
       " ('nira/tanira', 0.003153274729539436),\n",
       " ('other', 0.0034990054805993202),\n",
       " ('other - mkulima/shinyanga', 0.0),\n",
       " ('other - play pump', 7.636392284691687e-05),\n",
       " ('other - rope pump', 0.0005468405563393963),\n",
       " ('other - swn 81', 0.0005549183536979945),\n",
       " ('submersible', 0.0030600579852709023),\n",
       " ('swn 80', 0.0033340910149336),\n",
       " ('walimi', 0.0002991553815883824),\n",
       " ('windmill', 0.00032991158070598786),\n",
       " ('afridev', 0.001429087197348556),\n",
       " ('gravity', 0.0019863728047329974),\n",
       " ('india mark ii', 0.001284135146077188),\n",
       " ('india mark iii', 4.192793160202869e-05),\n",
       " ('mono', 0.002702149934820263),\n",
       " ('nira/tanira', 0.0025743669228024506),\n",
       " ('other', 0.0028141613390182097),\n",
       " ('other handpump', 0.0009891715561904945),\n",
       " ('other motorpump', 0.0003935960722006578),\n",
       " ('rope pump', 0.0007106163190200034),\n",
       " ('submersible', 0.0013556094844580358),\n",
       " ('swn 80', 0.001693526078433117),\n",
       " ('wind-powered', 0.00020087409924989232),\n",
       " ('company', 0.0005568371773311707),\n",
       " ('other', 0.0007557201303679882),\n",
       " ('other - school', 0.0),\n",
       " ('parastatal', 0.0014928142828790673),\n",
       " ('private operator', 0.0036935244256665425),\n",
       " ('trust', 0.0007889499849167863),\n",
       " ('unknown', 0.0009020677001883003),\n",
       " ('vwc', 0.00418189723616416),\n",
       " ('water authority', 0.0002393890589915251),\n",
       " ('water board', 0.0019219944637990686),\n",
       " ('wua', 0.001388062539802477),\n",
       " ('wug', 0.003557998968063961),\n",
       " ('never pay', 0.008119764909719529),\n",
       " ('other', 0.0016018040392384116),\n",
       " ('pay annually', 0.0027133621683790425),\n",
       " ('pay monthly', 0.004244941890858734),\n",
       " ('pay per bucket', 0.006344570281990759),\n",
       " ('pay when scheme fails', 0.0032817548183002193),\n",
       " ('unknown', 0.006571709563965662),\n",
       " ('coloured', 0.001567160938217177),\n",
       " ('fluoride', 0.00019317781171556412),\n",
       " ('fluoride abandoned', 6.571128623872137e-05),\n",
       " ('milky', 0.0016417305374488128),\n",
       " ('salty', 0.004780676641237696),\n",
       " ('salty abandoned', 0.0010589942360776628),\n",
       " ('soft', 0.006379620632734217),\n",
       " ('unknown', 0.003160817843209427),\n",
       " ('dry', 0.15370454958349664),\n",
       " ('enough', 0.008169674170173042),\n",
       " ('insufficient', 0.008613695533164665),\n",
       " ('seasonal', 0.002453372900419175),\n",
       " ('unknown', 0.0026918713835214986),\n",
       " ('dam', 0.0015830060517801796),\n",
       " ('hand dtw', 0.0017480456207890258),\n",
       " ('lake', 0.0007691103470197073),\n",
       " ('machine dbh', 0.005935981181864908),\n",
       " ('other', 0.0003955858376760049),\n",
       " ('rainwater harvesting', 0.00391565715347367),\n",
       " ('river', 0.005963586899413912),\n",
       " ('shallow well', 0.0066503085666405),\n",
       " ('spring', 0.004455192238878425),\n",
       " ('unknown', 0.00014373774890905948),\n",
       " ('cattle trough', 6.515767795919842e-05),\n",
       " ('communal standpipe', 0.0047850244074173634),\n",
       " ('communal standpipe multiple', 0.01751683344018539),\n",
       " ('dam', 0.0),\n",
       " ('hand pump', 0.002894178768615863),\n",
       " ('improved spring', 0.0015325899114316777),\n",
       " ('other', 0.0779047446957188),\n",
       " ('1', 0.00011145761516381943),\n",
       " ('10', 0.00035064341259378833),\n",
       " ('11', 0.0016033373920088501),\n",
       " ('12', 0.002046222516385474),\n",
       " ('13', 0.0009294713588926703),\n",
       " ('14', 0.00021826248925131992),\n",
       " ('15', 0.005405129546266993),\n",
       " ('16', 0.00023671990408065483),\n",
       " ('17', 0.0002027192352011604),\n",
       " ('18', 0.00035599465182708823),\n",
       " ('19', 0.0004940888235706624),\n",
       " ('2', 0.0009345781480212953),\n",
       " ('20', 0.00035877967815350697),\n",
       " ('21', 0.0005324129647531013),\n",
       " ('24', 0.0),\n",
       " ('3', 0.0009753408339384729),\n",
       " ('4', 0.0003487237753461257),\n",
       " ('5', 0.00027474886838881225),\n",
       " ('6', 0.0009604352114516649),\n",
       " ('60', 0.00015243608141168392),\n",
       " ('7', 0.00013838246497070792),\n",
       " ('8', 0.00040541980587881427),\n",
       " ('80', 0.0002741406461827475),\n",
       " ('9', 0.00022270098142460355),\n",
       " ('90', 0.0013988463315749422),\n",
       " ('99', 0.00018376394732039247),\n",
       " ('0', 0.0001307396142096976),\n",
       " ('1', 0.003652451054780089),\n",
       " ('13', 0.0003198643635763571),\n",
       " ('2', 0.003161842191185154),\n",
       " ('23', 0.00045076316213692164),\n",
       " ('3', 0.0032816387885351256),\n",
       " ('30', 0.004611293793956113),\n",
       " ('33', 0.0007936294832413383),\n",
       " ('4', 0.0031834037056135433),\n",
       " ('43', 0.0009794994181013493),\n",
       " ('5', 0.0011481504325652982),\n",
       " ('53', 0.0007864909198062332),\n",
       " ('6', 0.002197847826507575),\n",
       " ('60', 0.0),\n",
       " ('62', 0.0),\n",
       " ('63', 0.00021970462782687063),\n",
       " ('67', 0.0),\n",
       " ('7', 0.0009433813752877411),\n",
       " ('8', 0.0007847758847227941),\n",
       " ('80', 0.00018342520128618005)]"
      ]
     },
     "execution_count": 21,
     "metadata": {},
     "output_type": "execute_result"
    }
   ],
   "source": [
    "imp_feats = fsm2.feature_importances_\n",
    "column_names = X_train.columns\n",
    "list(zip(column_names, imp_feats))"
   ]
  },
  {
   "cell_type": "markdown",
   "metadata": {},
   "source": [
    "#### Much better, long way to go still"
   ]
  },
  {
   "cell_type": "markdown",
   "metadata": {},
   "source": [
    "### Next Steps:\n",
    "* Read up ensemble methods\n",
    "* Class imbalance - figure out how to fix that"
   ]
  },
  {
   "cell_type": "code",
   "execution_count": 16,
   "metadata": {},
   "outputs": [
    {
     "data": {
      "text/plain": [
       "0    0.544310\n",
       "2    0.384646\n",
       "1    0.071044\n",
       "Name: target, dtype: float64"
      ]
     },
     "execution_count": 16,
     "metadata": {},
     "output_type": "execute_result"
    }
   ],
   "source": [
    "y_train.target.value_counts(normalize=True)"
   ]
  },
  {
   "cell_type": "code",
   "execution_count": 17,
   "metadata": {},
   "outputs": [
    {
     "data": {
      "text/plain": [
       "0    0.539394\n",
       "2    0.383030\n",
       "1    0.077576\n",
       "Name: target, dtype: float64"
      ]
     },
     "execution_count": 17,
     "metadata": {},
     "output_type": "execute_result"
    }
   ],
   "source": [
    "y_test.target.value_counts(normalize=True)"
   ]
  },
  {
   "cell_type": "code",
   "execution_count": 22,
   "metadata": {},
   "outputs": [
    {
     "data": {
      "text/plain": [
       "(44550, 303)"
      ]
     },
     "execution_count": 22,
     "metadata": {},
     "output_type": "execute_result"
    }
   ],
   "source": [
    "X_train.shape"
   ]
  },
  {
   "cell_type": "code",
   "execution_count": null,
   "metadata": {},
   "outputs": [],
   "source": []
  }
 ],
 "metadata": {
  "kernelspec": {
   "display_name": "Python 3 (Tanzania)",
   "language": "python",
   "name": "tanzania"
  },
  "language_info": {
   "codemirror_mode": {
    "name": "ipython",
    "version": 3
   },
   "file_extension": ".py",
   "mimetype": "text/x-python",
   "name": "python",
   "nbconvert_exporter": "python",
   "pygments_lexer": "ipython3",
   "version": "3.8.3"
  }
 },
 "nbformat": 4,
 "nbformat_minor": 4
}
