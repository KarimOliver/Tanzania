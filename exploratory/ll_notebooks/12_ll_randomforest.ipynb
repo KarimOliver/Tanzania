{
 "cells": [
  {
   "cell_type": "markdown",
   "metadata": {},
   "source": [
    "## Modeling with Ensemble Method: Random Forest\n",
    "\n",
    "In this notebook I will try out a few iterations of **Random Forest algorithm** and see which parameters and features maximize our **Class 2 recall score**"
   ]
  },
  {
   "cell_type": "code",
   "execution_count": null,
   "metadata": {},
   "outputs": [],
   "source": [
    "%load_ext autoreload\n",
    "%autoreload 2"
   ]
  },
  {
   "cell_type": "code",
   "execution_count": 1,
   "metadata": {},
   "outputs": [],
   "source": [
    "#import\n",
    "import os, sys\n",
    "import numpy as np\n",
    "import pandas as pd\n",
    "import matplotlib.pyplot as plt\n",
    "import seaborn as sns\n",
    "%matplotlib inline\n",
    "from sklearn.model_selection import train_test_split, cross_validate, cross_val_score\n",
    "from sklearn.preprocessing import LabelEncoder, OneHotEncoder\n",
    "from sklearn.tree import DecisionTreeClassifier\n",
    "from sklearn.ensemble import RandomForestClassifier, GradientBoostingClassifier\n",
    "from sklearn.ensemble import AdaBoostClassifier, BaggingClassifier\n",
    "from sklearn.metrics import confusion_matrix, plot_confusion_matrix\n",
    "from sklearn.metrics import classification_report, recall_score, make_scorer\n",
    "from sklearn.dummy import DummyClassifier\n",
    "from imblearn.over_sampling import SMOTE\n",
    "from sklearn.model_selection import GridSearchCV\n",
    "\n",
    "module_path = os.path.abspath(os.path.join(os.pardir, os.pardir))\n",
    "if module_path not in sys.path:\n",
    "    sys.path.append(module_path)\n",
    "    \n",
    "#import customized functions\n",
    "from src.data_cleaning import cleaning_functions as cfs\n",
    "from src.data_cleaning import exploration_functions as efs\n",
    "from src.data_cleaning import processing_functions as pfs\n",
    "from src.data_cleaning import modeling_functions as mfs"
   ]
  },
  {
   "cell_type": "code",
   "execution_count": 2,
   "metadata": {},
   "outputs": [],
   "source": [
    "X_train, X_test, y_train, y_test, classes_dict = pfs.processed_dataset()\n",
    "X_train, X_test = pfs.ohe_train_and_test_features(X_train, X_test)\n",
    "scorer = mfs.scorer()"
   ]
  },
  {
   "cell_type": "code",
   "execution_count": 3,
   "metadata": {},
   "outputs": [],
   "source": [
    "X_train_smoted, y_train_smoted = SMOTE(random_state=2020).fit_sample(X_train.values, y_train)"
   ]
  },
  {
   "cell_type": "markdown",
   "metadata": {},
   "source": [
    "### Random Forest Algorithm\n",
    "\n",
    ">adding an extra layer of randomization: Instead of using *all* the features of dataset to optimize a branch at each node, we'll just choose a subset of our features."
   ]
  },
  {
   "cell_type": "code",
   "execution_count": 5,
   "metadata": {},
   "outputs": [
    {
     "name": "stdout",
     "output_type": "stream",
     "text": [
      "Class 2 recall score : \n",
      " [0.75945378 0.76908263 0.76768207]\n"
     ]
    }
   ],
   "source": [
    "# Instantiating a RandomForestClassifier\n",
    "rf1 = RandomForestClassifier(random_state=2020, class_weight='balanced')\n",
    "rf1.fit(X_train, y_train)\n",
    "print('Class 2 recall score :','\\n',cross_val_score(rf1, X_train, y_train, scoring=scorer, cv=3))"
   ]
  },
  {
   "cell_type": "markdown",
   "metadata": {},
   "source": [
    "Not a bad start, averaging around 76% recall score for class 2"
   ]
  },
  {
   "cell_type": "markdown",
   "metadata": {},
   "source": [
    "Let's check out the smoted lot and see if they look any good"
   ]
  },
  {
   "cell_type": "code",
   "execution_count": 6,
   "metadata": {},
   "outputs": [
    {
     "name": "stdout",
     "output_type": "stream",
     "text": [
      "Class 2 recall score : \n",
      " [0.77458864 0.76196957 0.60942719]\n"
     ]
    }
   ],
   "source": [
    "rf2 = RandomForestClassifier(random_state=2020)\n",
    "rf2.fit(X_train_smoted, y_train_smoted)\n",
    "print('Class 2 recall score :','\\n',cross_val_score(rf2, X_train_smoted, y_train_smoted, scoring=scorer, cv=3))"
   ]
  },
  {
   "cell_type": "markdown",
   "metadata": {},
   "source": [
    "High variance in this bunch, not as promising as the earlier one..."
   ]
  },
  {
   "cell_type": "markdown",
   "metadata": {},
   "source": [
    "Let's try out **grid search**"
   ]
  },
  {
   "cell_type": "code",
   "execution_count": 7,
   "metadata": {},
   "outputs": [],
   "source": [
    "# Defining param grid.\n",
    "param_grid = {\n",
    "    'n_estimators': [50, 100, 150],\n",
    "    'max_features': ['sqrt', 'log2', 1],\n",
    "    'criterion': [\"gini\", \"entropy\"],\n",
    "    \n",
    "}\n",
    "\n",
    "# Initializing gridsearch with 3-fold cross-validation.\n",
    "gs = GridSearchCV(estimator=rf1, param_grid=param_grid, cv=3, scoring=scorer)"
   ]
  },
  {
   "cell_type": "code",
   "execution_count": 8,
   "metadata": {},
   "outputs": [
    {
     "data": {
      "text/plain": [
       "GridSearchCV(cv=3,\n",
       "             estimator=RandomForestClassifier(class_weight='balanced',\n",
       "                                              random_state=2020),\n",
       "             param_grid={'criterion': ['gini', 'entropy'],\n",
       "                         'max_features': ['sqrt', 'log2', 1],\n",
       "                         'n_estimators': [50, 100, 150]},\n",
       "             scoring=make_scorer(class_2_recall))"
      ]
     },
     "execution_count": 8,
     "metadata": {},
     "output_type": "execute_result"
    }
   ],
   "source": [
    "gs.fit(X_train, y_train)"
   ]
  },
  {
   "cell_type": "markdown",
   "metadata": {},
   "source": [
    "**It took its time but we have something!!!!!**"
   ]
  },
  {
   "cell_type": "code",
   "execution_count": 9,
   "metadata": {},
   "outputs": [
    {
     "data": {
      "text/plain": [
       "{'criterion': 'entropy', 'max_features': 'log2', 'n_estimators': 150}"
      ]
     },
     "execution_count": 9,
     "metadata": {},
     "output_type": "execute_result"
    }
   ],
   "source": [
    "gs.best_params_"
   ]
  },
  {
   "cell_type": "code",
   "execution_count": 10,
   "metadata": {},
   "outputs": [
    {
     "data": {
      "text/plain": [
       "RandomForestClassifier(class_weight='balanced', criterion='entropy',\n",
       "                       max_features='log2', n_estimators=150,\n",
       "                       random_state=2020)"
      ]
     },
     "execution_count": 10,
     "metadata": {},
     "output_type": "execute_result"
    }
   ],
   "source": [
    "gs.best_estimator_"
   ]
  },
  {
   "cell_type": "markdown",
   "metadata": {},
   "source": [
    "Let's try it out!!!!"
   ]
  },
  {
   "cell_type": "code",
   "execution_count": 11,
   "metadata": {},
   "outputs": [
    {
     "name": "stdout",
     "output_type": "stream",
     "text": [
      "Class 2 recall score : \n",
      " [0.7657563  0.76523109 0.77153361]\n"
     ]
    }
   ],
   "source": [
    "rf3 = RandomForestClassifier(class_weight='balanced', criterion='entropy', \n",
    "                             max_features='log2', n_estimators=150,\n",
    "                             random_state=2020)\n",
    "rf3.fit(X_train, y_train)\n",
    "print('Class 2 recall score :','\\n',cross_val_score(rf3, X_train, y_train, scoring=scorer, cv=3))"
   ]
  },
  {
   "cell_type": "markdown",
   "metadata": {},
   "source": [
    "That's pretty good! low variance between these folds but bias is still on the higher side but its our best performer since we began ensemble methods! "
   ]
  },
  {
   "cell_type": "markdown",
   "metadata": {},
   "source": [
    "#### I'm just too curiuos and can't wait to try this out on our test data, I'm going for it!"
   ]
  },
  {
   "cell_type": "code",
   "execution_count": 12,
   "metadata": {},
   "outputs": [
    {
     "data": {
      "text/plain": [
       "0.7670534458509142"
      ]
     },
     "execution_count": 12,
     "metadata": {},
     "output_type": "execute_result"
    }
   ],
   "source": [
    "recall_score(y_test, rf3.predict(X_test), average=None)[2]"
   ]
  },
  {
   "cell_type": "markdown",
   "metadata": {},
   "source": [
    "That's pretty decent, close to what we had for the training set"
   ]
  },
  {
   "cell_type": "code",
   "execution_count": 20,
   "metadata": {},
   "outputs": [
    {
     "name": "stdout",
     "output_type": "stream",
     "text": [
      "                          precision    recall  f1-score   support\n",
      "\n",
      "              Functional       0.79      0.89      0.84      8010\n",
      "Functional, Needs Repair       0.58      0.31      0.41      1152\n",
      "           Nonfunctional       0.83      0.77      0.80      5688\n",
      "\n",
      "                accuracy                           0.80     14850\n",
      "               macro avg       0.73      0.66      0.68     14850\n",
      "            weighted avg       0.79      0.80      0.79     14850\n",
      "\n"
     ]
    }
   ],
   "source": [
    "print(classification_report(y_test, rf3.predict(X_test),\n",
    "                            target_names=['Functional',\n",
    "                                          'Functional, Needs Repair',\n",
    "                                          'Nonfunctional']))"
   ]
  },
  {
   "cell_type": "markdown",
   "metadata": {},
   "source": [
    "No too bad, also our overall accuracy is at 80% which is not entirely bad."
   ]
  },
  {
   "cell_type": "markdown",
   "metadata": {},
   "source": [
    "Also curious to see how these parameters behave with the smoted data"
   ]
  },
  {
   "cell_type": "code",
   "execution_count": 16,
   "metadata": {},
   "outputs": [
    {
     "name": "stdout",
     "output_type": "stream",
     "text": [
      "Class 2 recall score : \n",
      " [0.77446493 0.76407275 0.62984041]\n"
     ]
    }
   ],
   "source": [
    "rf4 = RandomForestClassifier(random_state=2020,criterion='entropy', \n",
    "                             max_features='log2', n_estimators=150)\n",
    "rf4.fit(X_train_smoted, y_train_smoted)\n",
    "print('Class 2 recall score :','\\n',cross_val_score(rf4, X_train_smoted, y_train_smoted, scoring=scorer, cv=3))"
   ]
  },
  {
   "cell_type": "markdown",
   "metadata": {},
   "source": [
    "higher variance with smoted data, could be just random chance...."
   ]
  },
  {
   "cell_type": "markdown",
   "metadata": {},
   "source": [
    "**Grid search** was limited to the chosen param-grid. Let's try out a few more iterations"
   ]
  },
  {
   "cell_type": "code",
   "execution_count": 22,
   "metadata": {},
   "outputs": [
    {
     "name": "stdout",
     "output_type": "stream",
     "text": [
      "Class 2 recall score : \n",
      " [0.72776611 0.72776611 0.74019608]\n"
     ]
    }
   ],
   "source": [
    "rf5 = RandomForestClassifier(class_weight='balanced', criterion='entropy', \n",
    "                             max_features='log2', n_estimators=450,\n",
    "                             min_samples_split=5, min_samples_leaf=3,\n",
    "                             random_state=2020)\n",
    "rf5.fit(X_train, y_train)\n",
    "print('Class 2 recall score :','\\n',cross_val_score(rf5, X_train, y_train, scoring=scorer, cv=3))"
   ]
  },
  {
   "cell_type": "markdown",
   "metadata": {},
   "source": [
    "Not impressive, let's keep going..."
   ]
  },
  {
   "cell_type": "markdown",
   "metadata": {},
   "source": [
    "#### Going back to the best so far and tweaking it by increasing the `n_estimators` alone to 600!"
   ]
  },
  {
   "cell_type": "code",
   "execution_count": 24,
   "metadata": {},
   "outputs": [
    {
     "name": "stdout",
     "output_type": "stream",
     "text": [
      "Class 2 recall score : \n",
      " [0.76645658 0.76698179 0.77118347]\n"
     ]
    }
   ],
   "source": [
    "rf6 = RandomForestClassifier(class_weight='balanced', criterion='entropy', \n",
    "                             max_features='log2', n_estimators=600,\n",
    "                             random_state=2020)\n",
    "rf6.fit(X_train, y_train)\n",
    "print('Class 2 recall score :','\\n',cross_val_score(rf6, X_train, y_train, scoring=scorer, cv=3))"
   ]
  },
  {
   "cell_type": "markdown",
   "metadata": {},
   "source": [
    "The runtime on this one wa very long but the results were similar to its earlier version `rf3`, not worth trying on the smoted data, \n",
    "\n",
    "Let's try another iteration before settling for our best model so far"
   ]
  },
  {
   "cell_type": "code",
   "execution_count": 28,
   "metadata": {},
   "outputs": [
    {
     "name": "stdout",
     "output_type": "stream",
     "text": [
      "Class 2 recall score : \n",
      " [0.76628151 0.76663165 0.7710084 ]\n"
     ]
    }
   ],
   "source": [
    "rf7 = RandomForestClassifier(class_weight='balanced', criterion='entropy', \n",
    "                             max_features='log2', n_estimators=200,\n",
    "                             random_state=2020)\n",
    "rf7.fit(X_train, y_train)\n",
    "print('Class 2 recall score :','\\n',cross_val_score(rf7, X_train, y_train, scoring=scorer, cv=3))"
   ]
  },
  {
   "cell_type": "markdown",
   "metadata": {},
   "source": [
    "Only a slight overall increase when compared to our `rf3` model. Let's go with this new one and test on our testing set and print out a report for final comparison"
   ]
  },
  {
   "cell_type": "code",
   "execution_count": 91,
   "metadata": {},
   "outputs": [
    {
     "data": {
      "text/plain": [
       "[('longitude', 0.14760880319320208),\n",
       " ('latitude', 0.14454789280256236),\n",
       " ('population', 0.07143115844398291),\n",
       " ('construction_year', 0.05409489090510416),\n",
       " ('dry', 0.03911514193181044),\n",
       " ('enough', 0.022364423749381544),\n",
       " ('insufficient', 0.015017471613087002),\n",
       " ('other', 0.014927762952718148),\n",
       " ('other', 0.013775772574932022),\n",
       " ('never pay', 0.013721293969689423),\n",
       " ('gravity', 0.011379367755001613),\n",
       " ('communal standpipe', 0.011090102838493727),\n",
       " ('above surface up to 1250', 0.009398245412234656),\n",
       " ('pay monthly', 0.008880822969308212),\n",
       " ('above surface upto 1750', 0.008758911289176927),\n",
       " ('True', 0.008078525606993332),\n",
       " ('hand pump', 0.008029875051156661),\n",
       " ('soft', 0.007737218709698372),\n",
       " ('spring', 0.007615047462805865),\n",
       " ('VWC', 0.007578655764626777)]"
      ]
     },
     "execution_count": 91,
     "metadata": {},
     "output_type": "execute_result"
    }
   ],
   "source": [
    "sorted(list(zip(X_train.columns, rf7.feature_importances_)), key=lambda x: x[1], reverse=True)[:20]"
   ]
  },
  {
   "cell_type": "code",
   "execution_count": 35,
   "metadata": {},
   "outputs": [
    {
     "data": {
      "text/plain": [
       "0.7663502109704642"
      ]
     },
     "execution_count": 35,
     "metadata": {},
     "output_type": "execute_result"
    }
   ],
   "source": [
    "recall_score(y_test, rf7.predict(X_test), average=None)[2]"
   ]
  },
  {
   "cell_type": "code",
   "execution_count": 92,
   "metadata": {},
   "outputs": [
    {
     "name": "stdout",
     "output_type": "stream",
     "text": [
      "                          precision    recall  f1-score   support\n",
      "\n",
      "              Functional       0.79      0.89      0.84      8010\n",
      "Functional, Needs Repair       0.58      0.31      0.41      1152\n",
      "           Nonfunctional       0.83      0.77      0.80      5688\n",
      "\n",
      "                accuracy                           0.80     14850\n",
      "               macro avg       0.73      0.65      0.68     14850\n",
      "            weighted avg       0.79      0.80      0.79     14850\n",
      "\n"
     ]
    }
   ],
   "source": [
    "print(classification_report(y_test, rf7.predict(X_test),\n",
    "                            target_names=['Functional',\n",
    "                                          'Functional, Needs Repair',\n",
    "                                          'Nonfunctional']))"
   ]
  },
  {
   "cell_type": "code",
   "execution_count": 103,
   "metadata": {},
   "outputs": [],
   "source": [
    "%matplotlib inline"
   ]
  },
  {
   "cell_type": "code",
   "execution_count": 117,
   "metadata": {},
   "outputs": [
    {
     "name": "stderr",
     "output_type": "stream",
     "text": [
      "/opt/anaconda3/lib/python3.7/site-packages/ipykernel_launcher.py:14: UserWarning: Matplotlib is currently using module://ipykernel.pylab.backend_inline, which is a non-GUI backend, so cannot show the figure.\n",
      "  \n"
     ]
    },
    {
     "data": {
      "image/png": "[encoded data removed]",
      "text/plain": [
       "<Figure size 800x800 with 2 Axes>"
      ]
     },
     "metadata": {},
     "output_type": "display_data"
    }
   ],
   "source": [
    "\n",
    "f,ax = plt.subplots(figsize=((8,8)))\n",
    "plot_confusion_matrix(rf7, X_test, y_test, normalize='true',\n",
    "                      display_labels=['Functional',\n",
    "                                      'Functional,\\n Needs Repair',\n",
    "                                      'Nonfunctional'], ax=ax)\n",
    "\n",
    "ax.set_title('Balanced Class Weights & 200 Estimators', fontsize=15, pad=20)\n",
    "ax.tick_params(labelsize=14, labelcolor='olive' ,width=3, pad=5, length=4)\n",
    "ax.set_xlabel('Predicted Class', fontsize=14, labelpad=14, fontstyle='italic', color='grey')\n",
    "ax.set_ylabel('True Class', fontsize=14, labelpad=14, fontstyle='italic', color='grey')\n",
    "f.suptitle(\"               Random Forest Classifier \", fontsize=18)\n",
    "\n",
    "f.tight_layout()\n",
    "f.show()\n",
    "plt.savefig('bestmodelplot.png');"
   ]
  },
  {
   "cell_type": "code",
   "execution_count": 93,
   "metadata": {},
   "outputs": [
    {
     "name": "stdout",
     "output_type": "stream",
     "text": [
      "Class 2 recall score : \n",
      " [0.76435574 0.7657563  0.77153361]\n"
     ]
    }
   ],
   "source": [
    "rf8 = RandomForestClassifier(class_weight='balanced', criterion='gini', \n",
    "                             max_features='log2', n_estimators=200,\n",
    "                             random_state=2020)\n",
    "rf8.fit(X_train, y_train)\n",
    "print('Class 2 recall score :','\\n',cross_val_score(rf8, X_train, y_train, scoring=scorer, cv=3))"
   ]
  },
  {
   "cell_type": "code",
   "execution_count": 95,
   "metadata": {},
   "outputs": [
    {
     "data": {
      "text/plain": [
       "[('longitude', 0.14919309341696407),\n",
       " ('latitude', 0.1450575900321472),\n",
       " ('population', 0.07152130429283068),\n",
       " ('construction_year', 0.0541256380957634),\n",
       " ('dry', 0.04255861601998098),\n",
       " ('enough', 0.022503200432699412),\n",
       " ('other', 0.01579547238159948),\n",
       " ('insufficient', 0.015046248399207728),\n",
       " ('other', 0.014925883103681386),\n",
       " ('never pay', 0.013559517374132352),\n",
       " ('gravity', 0.011191418289113826),\n",
       " ('communal standpipe', 0.010767203149911175),\n",
       " ('above surface up to 1250', 0.009096383078751918),\n",
       " ('pay monthly', 0.00844105619373425),\n",
       " ('above surface upto 1750', 0.008222018705539687),\n",
       " ('pay per bucket', 0.007862955116736235),\n",
       " ('spring', 0.007837155453292445),\n",
       " ('True', 0.007789355124156085),\n",
       " ('hand pump', 0.007774677205365361),\n",
       " ('soft', 0.007566519466244559)]"
      ]
     },
     "execution_count": 95,
     "metadata": {},
     "output_type": "execute_result"
    }
   ],
   "source": [
    "sorted(list(zip(X_train.columns, rf8.feature_importances_)), key=lambda x: x[1], reverse=True)[:20]"
   ]
  },
  {
   "cell_type": "code",
   "execution_count": 96,
   "metadata": {},
   "outputs": [
    {
     "data": {
      "text/plain": [
       "0.7689873417721519"
      ]
     },
     "execution_count": 96,
     "metadata": {},
     "output_type": "execute_result"
    }
   ],
   "source": [
    "recall_score(y_test, rf8.predict(X_test), average=None)[2]"
   ]
  },
  {
   "cell_type": "code",
   "execution_count": null,
   "metadata": {},
   "outputs": [],
   "source": []
  }
 ],
 "metadata": {
  "kernelspec": {
   "display_name": "Python 3 (Tanzania)",
   "language": "python",
   "name": "tanzania"
  },
  "language_info": {
   "codemirror_mode": {
    "name": "ipython",
    "version": 3
   },
   "file_extension": ".py",
   "mimetype": "text/x-python",
   "name": "python",
   "nbconvert_exporter": "python",
   "pygments_lexer": "ipython3",
   "version": "3.7.6"
  }
 },
 "nbformat": 4,
 "nbformat_minor": 4
}
