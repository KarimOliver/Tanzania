{
 "cells": [
  {
   "cell_type": "markdown",
   "metadata": {},
   "source": [
    "# Kisima, Analysis and Model for Predicting Tanzanian Waterwells Functionality\n",
    "\n",
    "A model and analysis by Karim Oliver, Johnhoy Stephens, and Luluva Lakdawala"
   ]
  },
  {
   "cell_type": "markdown",
   "metadata": {},
   "source": [
    "## Setting the Scene:\n",
    "\n",
    "This project, Kisima, investigates the factors that determine the functionality of waterwells in the variuos regions of Tanzania. Our model and investigations are directed towards The Tanzanian Ministry of Water, Taarifa and other stakeholders intersted in the functionality of waterwells in Tanzania. Many features contribute to the functionality of the waterwells, we aim to discover some of them and build a model that uses these features and correctly predicts the status of these wells. A smart understanding of which waterpoints will fail can improve maintenance operations and ensure that clean, potable water is available to communities across Tanzania. \n",
    "\n",
    "### Goals:\n",
    "\n",
    "Our project aims to:\n",
    "- Build a model that predicts the status of the waterwells with a focus on correctly identifying the non-functional wells\n",
    "- Investigate some of the features that appear to have a relationship with the status of the waterwells\n",
    "- Validate the following claims made during our investigation with the features:\n",
    "    - Quantity of water available to the wells determines their status\n",
    "    - The Extraction type used to pull water from the wells has a bearing on the functionality of the wells\n",
    "    - The waterpoint type has an influence on the status of the wells\n",
    "    - Do the kind of pump that is operating with the wells, the year of installation or how it is managed has any relation with the functionality of the wells. \n",
    "    \n",
    "\n",
    "### Definitions:\n",
    "\n",
    "- Class:\n",
    "    - Class is defined as the status of the waterwells in our dataset.\n",
    "        - Class 0 relates to Functional - the waterpoints that are operational and there are no repairs needed\n",
    "        - Class 1 realates to Functional but Needs Repair - the waterpoints that are operational but need repairs\n",
    "        - Class 2 relates to Nonfunctional - the waterpoints that are not operational\n",
    "- Features:\n",
    "    - Features refer to the independent variables in each record in the dataset we are using to build our model on\n",
    "- Model:\n",
    "    - The term model referred to through this project is in reference to the classification model we build to predict the status of the waterwells\n",
    "- Recall score:\n",
    "    - The metric we are using to compare the various models we build. It is defined as the percent of correct results over the number of results that should have been returned. We chose to calculate the recll score for Class 2 (Nonfunctional wells)\n",
    "\n",
    "### Data:\n",
    "\n",
    "The data used in this project is from the DrivenData website and can be found [here](https://www.drivendata.org/competitions/7/pump-it-up-data-mining-the-water-table/data/). From this link, you will need to sign up for DrivenData to have access to these files\n",
    "- Training set values\n",
    "- Training set labels\n",
    "\n",
    "\n",
    "Additional information about the features in the dataset can be found [here](../../references/data_dictionary_waterpoints.pdf).\n",
    "\n",
    "Note that this modeling analysis contains the 'stream lined' version iterations from getting our first simple model to our final model. To get a more in depth view of our exploration process, mistakes, and triumphs, please refer to [Luluva's](../../notebooks/ll_notebooks), [Johnhoy's](../../notebooks/js_notebooks) and [Karim's](../../notebooks/ko_notebooks) notebooks.\n",
    "\n",
    "### Analysis Takeaways:  \n",
    "\n",
    "- Our final model, Random Forest Classifier is able to achieve a Recall score for Class 2 of about 77% and an overall Accuracy of about 80%\n",
    "- Our analysis finds that geographical aspects - longitude and latitude of the waterwells are the most significant features that helped classify the waterwells\n",
    "- We find that the population around the waterwells and the year in which the wells were constructed are among the important features for our model to classify the records\n",
    "- Water quantity is the most significant categorical feature with 'dry', 'enough', and 'insufficient' being the specific encoded categories that determined the classification of the waterwells\n",
    "- We find that extraction type is also an important categorical feature for determining the classes. Within which 'other', 'gravity', and 'hand pump' are the top classifiers.\n",
    "- We also find waterpoint type - communal standpipe as being one of the top important feature in our final model.\n",
    "\n",
    "### Future Investigations:\n",
    "\n",
    "- Could we build another model that would focus on predicting the Class 1 waterwells, the ones that need repair?\n",
    "- Which features directly affect the functional wells that need repair?\n",
    "\n",
    "### Recommendations:\n",
    "\n",
    "- Regular inspection of high risk areas can be undertaken to avoid having more number of nonfunctional waterwells\n",
    "- Wells that work on motorpump or wind powered energy are found to be more susceptible to being nonfunctional. Maintenance procedures can be set in place to ensure that they remain functional. "
   ]
  },
  {
   "cell_type": "markdown",
   "metadata": {},
   "source": [
    "# Data Cleaning and Exploratory Data Analysis:"
   ]
  },
  {
   "cell_type": "code",
   "execution_count": 1,
   "metadata": {},
   "outputs": [],
   "source": [
    "%load_ext autoreload\n",
    "%autoreload 2"
   ]
  },
  {
   "cell_type": "markdown",
   "metadata": {},
   "source": [
    "## Get data:\n",
    "\n",
    "Firstly, to get the data downloaded, we'll have to go to the DrivenData website [here](https://www.drivendata.org/competitions/7/pump-it-up-data-mining-the-water-table/data/). It requires us to sign up before we can have access to these files\n",
    "- Training set values\n",
    "- Training set labels\n",
    "\n",
    "Once we get to the datadownload page, we need to download the two csv files locally and move them to the `data` folder in the root directory. Then, \n",
    "- `Training set values` file needs to be renamed to -> `training_set_values.csv` \n",
    "- `Training set labels` file needs to be renamed to -> `training_set_labels.csv`\n",
    "\n",
    "\n",
    "### Imports"
   ]
  },
  {
   "cell_type": "code",
   "execution_count": 2,
   "metadata": {},
   "outputs": [],
   "source": [
    "#import\n",
    "import os, sys\n",
    "import numpy as np\n",
    "import pandas as pd\n",
    "import matplotlib.pyplot as plt\n",
    "import seaborn as sns\n",
    "%matplotlib inline\n",
    "from sklearn.model_selection import train_test_split, cross_validate, cross_val_score\n",
    "from sklearn.preprocessing import LabelEncoder, OneHotEncoder\n",
    "from sklearn.tree import DecisionTreeClassifier\n",
    "from sklearn.ensemble import RandomForestClassifier, GradientBoostingClassifier\n",
    "from sklearn.ensemble import AdaBoostClassifier, BaggingClassifier\n",
    "from sklearn.metrics import confusion_matrix, plot_confusion_matrix\n",
    "from sklearn.metrics import classification_report, recall_score, make_scorer\n",
    "from sklearn.dummy import DummyClassifier\n",
    "from imblearn.over_sampling import SMOTE\n",
    "from sklearn.model_selection import GridSearchCV\n",
    "\n",
    "module_path = os.path.abspath(os.path.join(os.pardir, os.pardir))\n",
    "if module_path not in sys.path:\n",
    "    sys.path.append(module_path)\n",
    "    \n",
    "#import customized functions\n",
    "from src.data_cleaning import cleaning_functions as cfs\n",
    "from src.data_cleaning import exploration_functions as efs\n",
    "from src.data_cleaning import processing_functions as pfs\n",
    "from src.data_cleaning import modeling_functions as mfs"
   ]
  },
  {
   "cell_type": "markdown",
   "metadata": {},
   "source": [
    "**Note**: Through out this project, everytime we had to set a random_state, we chose 2020\n",
    "\n",
    "All members of the group explored and cleaned the data to each get a deeper understanding of the dataset.  The following shows 'stream-lined' example of the cleaning process to get an idea of how we initially tackled the data in the two csv files.  When it came to start building models, we voted on which features we would retain, the feature engineering we would perform to use the features we agreed upon and how we would transform and encode the categorical features we had in our dataset.  Execute the cells as shown here to get an idea of our data exploration.\n",
    "\n",
    "We use our custom function here to read in our files. It uses pandas to read the csv files and convert them into dataframes.\n",
    "\n",
    "We then split the dataframes into training and testing sets setting the random_state at 2020\n",
    "We do this right away so as to not learn anything from the designated test sets and let our exploration and models only learn from the training sets.\n",
    "\n",
    "We then combine the X_train and y_train into one dataframe and in the end, return the X_train, X_test, y_train, y_test and the merged dataframe\n"
   ]
  },
  {
   "cell_type": "code",
   "execution_count": 3,
   "metadata": {},
   "outputs": [],
   "source": [
    "X_train, X_test, y_train, y_test, df = cfs.load_data_files()"
   ]
  },
  {
   "cell_type": "markdown",
   "metadata": {},
   "source": [
    "## Inspect the data:"
   ]
  },
  {
   "cell_type": "code",
   "execution_count": 4,
   "metadata": {},
   "outputs": [
    {
     "data": {
      "text/html": [
       "<div>\n",
       "<style scoped>\n",
       "    .dataframe tbody tr th:only-of-type {\n",
       "        vertical-align: middle;\n",
       "    }\n",
       "\n",
       "    .dataframe tbody tr th {\n",
       "        vertical-align: top;\n",
       "    }\n",
       "\n",
       "    .dataframe thead th {\n",
       "        text-align: right;\n",
       "    }\n",
       "</style>\n",
       "<table border=\"1\" class=\"dataframe\">\n",
       "  <thead>\n",
       "    <tr style=\"text-align: right;\">\n",
       "      <th></th>\n",
       "      <th>id</th>\n",
       "      <th>status_group</th>\n",
       "      <th>amount_tsh</th>\n",
       "      <th>date_recorded</th>\n",
       "      <th>funder</th>\n",
       "      <th>gps_height</th>\n",
       "      <th>installer</th>\n",
       "      <th>longitude</th>\n",
       "      <th>latitude</th>\n",
       "      <th>wpt_name</th>\n",
       "      <th>...</th>\n",
       "      <th>payment_type</th>\n",
       "      <th>water_quality</th>\n",
       "      <th>quality_group</th>\n",
       "      <th>quantity</th>\n",
       "      <th>quantity_group</th>\n",
       "      <th>source</th>\n",
       "      <th>source_type</th>\n",
       "      <th>source_class</th>\n",
       "      <th>waterpoint_type</th>\n",
       "      <th>waterpoint_type_group</th>\n",
       "    </tr>\n",
       "  </thead>\n",
       "  <tbody>\n",
       "    <tr>\n",
       "      <th>0</th>\n",
       "      <td>41434</td>\n",
       "      <td>functional</td>\n",
       "      <td>0.0</td>\n",
       "      <td>2011-07-18</td>\n",
       "      <td>P</td>\n",
       "      <td>0</td>\n",
       "      <td>P</td>\n",
       "      <td>33.037555</td>\n",
       "      <td>-2.411289</td>\n",
       "      <td>Kwa Lutenganija Buluba</td>\n",
       "      <td>...</td>\n",
       "      <td>monthly</td>\n",
       "      <td>soft</td>\n",
       "      <td>good</td>\n",
       "      <td>insufficient</td>\n",
       "      <td>insufficient</td>\n",
       "      <td>shallow well</td>\n",
       "      <td>shallow well</td>\n",
       "      <td>groundwater</td>\n",
       "      <td>hand pump</td>\n",
       "      <td>hand pump</td>\n",
       "    </tr>\n",
       "    <tr>\n",
       "      <th>1</th>\n",
       "      <td>47577</td>\n",
       "      <td>functional</td>\n",
       "      <td>1200.0</td>\n",
       "      <td>2013-01-21</td>\n",
       "      <td>Government Of Tanzania</td>\n",
       "      <td>1228</td>\n",
       "      <td>DWE</td>\n",
       "      <td>30.254171</td>\n",
       "      <td>-4.530045</td>\n",
       "      <td>Kwa Fulugence</td>\n",
       "      <td>...</td>\n",
       "      <td>annually</td>\n",
       "      <td>soft</td>\n",
       "      <td>good</td>\n",
       "      <td>enough</td>\n",
       "      <td>enough</td>\n",
       "      <td>river</td>\n",
       "      <td>river/lake</td>\n",
       "      <td>surface</td>\n",
       "      <td>communal standpipe</td>\n",
       "      <td>communal standpipe</td>\n",
       "    </tr>\n",
       "    <tr>\n",
       "      <th>2</th>\n",
       "      <td>55982</td>\n",
       "      <td>functional</td>\n",
       "      <td>0.0</td>\n",
       "      <td>2012-10-07</td>\n",
       "      <td>Tasaf</td>\n",
       "      <td>0</td>\n",
       "      <td>DWE</td>\n",
       "      <td>31.515446</td>\n",
       "      <td>-3.335620</td>\n",
       "      <td>Kanyemba</td>\n",
       "      <td>...</td>\n",
       "      <td>unknown</td>\n",
       "      <td>soft</td>\n",
       "      <td>good</td>\n",
       "      <td>enough</td>\n",
       "      <td>enough</td>\n",
       "      <td>shallow well</td>\n",
       "      <td>shallow well</td>\n",
       "      <td>groundwater</td>\n",
       "      <td>hand pump</td>\n",
       "      <td>hand pump</td>\n",
       "    </tr>\n",
       "    <tr>\n",
       "      <th>3</th>\n",
       "      <td>25879</td>\n",
       "      <td>non functional</td>\n",
       "      <td>0.0</td>\n",
       "      <td>2013-02-20</td>\n",
       "      <td>World Vision</td>\n",
       "      <td>954</td>\n",
       "      <td>World vision</td>\n",
       "      <td>36.838153</td>\n",
       "      <td>-3.650579</td>\n",
       "      <td>Shuleni</td>\n",
       "      <td>...</td>\n",
       "      <td>unknown</td>\n",
       "      <td>salty</td>\n",
       "      <td>salty</td>\n",
       "      <td>insufficient</td>\n",
       "      <td>insufficient</td>\n",
       "      <td>shallow well</td>\n",
       "      <td>shallow well</td>\n",
       "      <td>groundwater</td>\n",
       "      <td>other</td>\n",
       "      <td>other</td>\n",
       "    </tr>\n",
       "    <tr>\n",
       "      <th>4</th>\n",
       "      <td>13900</td>\n",
       "      <td>functional</td>\n",
       "      <td>0.0</td>\n",
       "      <td>2011-07-27</td>\n",
       "      <td>NaN</td>\n",
       "      <td>0</td>\n",
       "      <td>NaN</td>\n",
       "      <td>33.540494</td>\n",
       "      <td>-9.162976</td>\n",
       "      <td>Kwa Andreas</td>\n",
       "      <td>...</td>\n",
       "      <td>never pay</td>\n",
       "      <td>soft</td>\n",
       "      <td>good</td>\n",
       "      <td>insufficient</td>\n",
       "      <td>insufficient</td>\n",
       "      <td>spring</td>\n",
       "      <td>spring</td>\n",
       "      <td>groundwater</td>\n",
       "      <td>communal standpipe</td>\n",
       "      <td>communal standpipe</td>\n",
       "    </tr>\n",
       "  </tbody>\n",
       "</table>\n",
       "<p>5 rows × 41 columns</p>\n",
       "</div>"
      ],
      "text/plain": [
       "      id    status_group  amount_tsh date_recorded                  funder  \\\n",
       "0  41434      functional         0.0    2011-07-18                       P   \n",
       "1  47577      functional      1200.0    2013-01-21  Government Of Tanzania   \n",
       "2  55982      functional         0.0    2012-10-07                   Tasaf   \n",
       "3  25879  non functional         0.0    2013-02-20            World Vision   \n",
       "4  13900      functional         0.0    2011-07-27                     NaN   \n",
       "\n",
       "   gps_height     installer  longitude  latitude                wpt_name  ...  \\\n",
       "0           0             P  33.037555 -2.411289  Kwa Lutenganija Buluba  ...   \n",
       "1        1228           DWE  30.254171 -4.530045           Kwa Fulugence  ...   \n",
       "2           0           DWE  31.515446 -3.335620                Kanyemba  ...   \n",
       "3         954  World vision  36.838153 -3.650579                 Shuleni  ...   \n",
       "4           0           NaN  33.540494 -9.162976             Kwa Andreas  ...   \n",
       "\n",
       "   payment_type water_quality quality_group      quantity  quantity_group  \\\n",
       "0       monthly          soft          good  insufficient    insufficient   \n",
       "1      annually          soft          good        enough          enough   \n",
       "2       unknown          soft          good        enough          enough   \n",
       "3       unknown         salty         salty  insufficient    insufficient   \n",
       "4     never pay          soft          good  insufficient    insufficient   \n",
       "\n",
       "         source   source_type source_class     waterpoint_type  \\\n",
       "0  shallow well  shallow well  groundwater           hand pump   \n",
       "1         river    river/lake      surface  communal standpipe   \n",
       "2  shallow well  shallow well  groundwater           hand pump   \n",
       "3  shallow well  shallow well  groundwater               other   \n",
       "4        spring        spring  groundwater  communal standpipe   \n",
       "\n",
       "  waterpoint_type_group  \n",
       "0             hand pump  \n",
       "1    communal standpipe  \n",
       "2             hand pump  \n",
       "3                 other  \n",
       "4    communal standpipe  \n",
       "\n",
       "[5 rows x 41 columns]"
      ]
     },
     "execution_count": 4,
     "metadata": {},
     "output_type": "execute_result"
    }
   ],
   "source": [
    "df.head()"
   ]
  },
  {
   "cell_type": "markdown",
   "metadata": {},
   "source": [
    "We noticed right away that we were dealing with many categorical features and to get an idea of what these features really were we looked up the data dictionary found [here](../../references/data_dictionary_waterpoints.pdf)"
   ]
  },
  {
   "cell_type": "code",
   "execution_count": 5,
   "metadata": {},
   "outputs": [
    {
     "data": {
      "text/plain": [
       "Index(['id', 'status_group', 'amount_tsh', 'date_recorded', 'funder',\n",
       "       'gps_height', 'installer', 'longitude', 'latitude', 'wpt_name',\n",
       "       'num_private', 'basin', 'subvillage', 'region', 'region_code',\n",
       "       'district_code', 'lga', 'ward', 'population', 'public_meeting',\n",
       "       'recorded_by', 'scheme_management', 'scheme_name', 'permit',\n",
       "       'construction_year', 'extraction_type', 'extraction_type_group',\n",
       "       'extraction_type_class', 'management', 'management_group', 'payment',\n",
       "       'payment_type', 'water_quality', 'quality_group', 'quantity',\n",
       "       'quantity_group', 'source', 'source_type', 'source_class',\n",
       "       'waterpoint_type', 'waterpoint_type_group'],\n",
       "      dtype='object')"
      ]
     },
     "execution_count": 5,
     "metadata": {},
     "output_type": "execute_result"
    }
   ],
   "source": [
    "df.columns"
   ]
  },
  {
   "cell_type": "markdown",
   "metadata": {},
   "source": [
    "We then checked for `Nans` and found them to be present in categorical features alone. We brainstormed different ideas on how to fill them and decideded to replace the Nans as `'unknown'` so that we could retain the record and use the information from its other features."
   ]
  },
  {
   "cell_type": "code",
   "execution_count": 6,
   "metadata": {},
   "outputs": [
    {
     "data": {
      "text/plain": [
       "(44550, 41)"
      ]
     },
     "execution_count": 6,
     "metadata": {},
     "output_type": "execute_result"
    }
   ],
   "source": [
    "df.shape"
   ]
  },
  {
   "cell_type": "code",
   "execution_count": 7,
   "metadata": {},
   "outputs": [
    {
     "data": {
      "text/html": [
       "<div>\n",
       "<style scoped>\n",
       "    .dataframe tbody tr th:only-of-type {\n",
       "        vertical-align: middle;\n",
       "    }\n",
       "\n",
       "    .dataframe tbody tr th {\n",
       "        vertical-align: top;\n",
       "    }\n",
       "\n",
       "    .dataframe thead th {\n",
       "        text-align: right;\n",
       "    }\n",
       "</style>\n",
       "<table border=\"1\" class=\"dataframe\">\n",
       "  <thead>\n",
       "    <tr style=\"text-align: right;\">\n",
       "      <th></th>\n",
       "      <th>nan_count</th>\n",
       "    </tr>\n",
       "  </thead>\n",
       "  <tbody>\n",
       "    <tr>\n",
       "      <th>funder</th>\n",
       "      <td>2680</td>\n",
       "    </tr>\n",
       "    <tr>\n",
       "      <th>installer</th>\n",
       "      <td>2702</td>\n",
       "    </tr>\n",
       "    <tr>\n",
       "      <th>subvillage</th>\n",
       "      <td>288</td>\n",
       "    </tr>\n",
       "    <tr>\n",
       "      <th>public_meeting</th>\n",
       "      <td>2537</td>\n",
       "    </tr>\n",
       "    <tr>\n",
       "      <th>scheme_management</th>\n",
       "      <td>2954</td>\n",
       "    </tr>\n",
       "    <tr>\n",
       "      <th>scheme_name</th>\n",
       "      <td>21181</td>\n",
       "    </tr>\n",
       "    <tr>\n",
       "      <th>permit</th>\n",
       "      <td>2275</td>\n",
       "    </tr>\n",
       "  </tbody>\n",
       "</table>\n",
       "</div>"
      ],
      "text/plain": [
       "                   nan_count\n",
       "funder                  2680\n",
       "installer               2702\n",
       "subvillage               288\n",
       "public_meeting          2537\n",
       "scheme_management       2954\n",
       "scheme_name            21181\n",
       "permit                  2275"
      ]
     },
     "execution_count": 7,
     "metadata": {},
     "output_type": "execute_result"
    }
   ],
   "source": [
    "cfs.check_for_nans(df)"
   ]
  },
  {
   "cell_type": "markdown",
   "metadata": {},
   "source": [
    "We unanimously agreed to drop `scheme_name` from our dataframe as it had **21132** Nans and we did not really want to use scheme names to decide if a waterpoint was functional or not"
   ]
  },
  {
   "cell_type": "code",
   "execution_count": 8,
   "metadata": {},
   "outputs": [],
   "source": [
    "df.drop(['scheme_name'], axis=1, inplace=True)"
   ]
  },
  {
   "cell_type": "markdown",
   "metadata": {},
   "source": [
    "Next we replace all our `Nans` as `unknown`"
   ]
  },
  {
   "cell_type": "code",
   "execution_count": 9,
   "metadata": {},
   "outputs": [],
   "source": [
    "cfs.fill_all_nans(df)"
   ]
  },
  {
   "cell_type": "markdown",
   "metadata": {},
   "source": [
    "Inspect if we have any remaining `Nans`"
   ]
  },
  {
   "cell_type": "code",
   "execution_count": 10,
   "metadata": {},
   "outputs": [
    {
     "data": {
      "text/plain": [
       "0"
      ]
     },
     "execution_count": 10,
     "metadata": {},
     "output_type": "execute_result"
    }
   ],
   "source": [
    "df.isna().sum().sum()"
   ]
  },
  {
   "cell_type": "markdown",
   "metadata": {},
   "source": [
    "Before going further with data exploration, let's convert our `status_group` to `target` and label encode them so as to be able to visualize some of our features."
   ]
  },
  {
   "cell_type": "code",
   "execution_count": 11,
   "metadata": {},
   "outputs": [],
   "source": [
    "classes_dict, df = cfs.create_target(df)"
   ]
  },
  {
   "cell_type": "code",
   "execution_count": 12,
   "metadata": {},
   "outputs": [
    {
     "data": {
      "text/plain": [
       "{0: 'functional', 1: 'functional needs repair', 2: 'non functional'}"
      ]
     },
     "execution_count": 12,
     "metadata": {},
     "output_type": "execute_result"
    }
   ],
   "source": [
    "classes_dict"
   ]
  },
  {
   "cell_type": "markdown",
   "metadata": {},
   "source": [
    "##### 0 : Functional\n",
    "##### 1 : Functional needs Repair\n",
    "##### 2 : Non Functional"
   ]
  },
  {
   "cell_type": "markdown",
   "metadata": {},
   "source": [
    "We then dropped these columns that we deemed to be unnecessary for our classification model `id` `date_recorded` `recorded_by` `wpt_name` `num_private`"
   ]
  },
  {
   "cell_type": "code",
   "execution_count": 13,
   "metadata": {},
   "outputs": [],
   "source": [
    "df.drop(['id', 'date_recorded', 'recorded_by', 'wpt_name', 'num_private'], axis=1, inplace=True )"
   ]
  },
  {
   "cell_type": "markdown",
   "metadata": {},
   "source": [
    "#### EDA of Categorical Features\n",
    "\n",
    "We noticed many similar/duplicate columns relating to similar information about each waterpoint. We explored each of these groups inidividually and tried to gauge which of those columns had the strongest relation with the target. We were then able to reduce a few more columns and had the data set be a bit more managable.\n",
    "\n",
    "The groups discovered were:\n",
    "* Region specific: `subvillage`, `basin`, `region`, `region_code`, `district_code`, `lga`, `ward`\n",
    "* Extraction specific: `extraction_type`, `extraction_type_group`, `extraction_type_class`\n",
    "* Management specific: `management`, `management_group`\n",
    "* Payment specific: `payment`, `payment_type`\n",
    "* Water quality: `water_quality`, `quality_group`\n",
    "* Water quantity: `quantity`, `quantity_group`\n",
    "* Source: `source`, `source_type`, `source_class`\n",
    "* Waterpoint type: `waterpoint_type`, `waterpoint_type_group`\n"
   ]
  },
  {
   "cell_type": "markdown",
   "metadata": {},
   "source": [
    "We then did some EDA to see if we noticed any trends relating to the various features and our target.\n",
    "Importing some of the ones that stood out for us."
   ]
  },
  {
   "cell_type": "markdown",
   "metadata": {},
   "source": [
    "![Extraction_Type](../../reports/figures/Wells&Extractiontype.png)"
   ]
  },
  {
   "cell_type": "markdown",
   "metadata": {},
   "source": [
    "We noticed `other` stood out from the lot and it related more closely with nonfunctional wells, whereas `gravity`, `handpump` and `rope pump` indicated that they could be good classifiers for functional wells. If ensemble methods was going to be our end game for modeling puposes, these could help with the classificatoin due to the information gain from these variables."
   ]
  },
  {
   "cell_type": "code",
   "execution_count": 14,
   "metadata": {},
   "outputs": [
    {
     "data": {
      "image/png": "[encoded data removed]",
      "text/plain": [
       "<Figure size 1440x576 with 1 Axes>"
      ]
     },
     "metadata": {
      "needs_background": "light"
     },
     "output_type": "display_data"
    }
   ],
   "source": [
    "efs.plot_basin_counts(df)"
   ]
  },
  {
   "cell_type": "markdown",
   "metadata": {},
   "source": [
    "Amongst the variuos `basin`s we found `Lake Rukwa` and `Ruvuma` to have more count of nonfunctional wells. We had to retain this feature as it could be a helpful classifier.\n",
    "\n",
    "We dug around more and found many intersting features out of which the most significant we thought was the `water quantity` feature."
   ]
  },
  {
   "cell_type": "markdown",
   "metadata": {},
   "source": [
    "![Wells&waterquantity](../../reports/figures/Wells&waterquanity.png)"
   ]
  },
  {
   "cell_type": "markdown",
   "metadata": {},
   "source": [
    "We found this really interesting as we knew this `dry` sub-feature was going to be a good clasifier for us just based on the proportion of wells that were nonfunctional in this sub categorizaton. \n",
    "\n",
    "We then narrowed down our categorical features and decided to drop the following from our end feature list:\n",
    ">`subvillage`, `ward`, `extraction_type_class`, `extraction_type_class`, `management_group`, `payment_type`, `quality_group`, `quantity_group`, `source_type`, `source_class`, `waterpoint_type_group`, `installer`, `funder`"
   ]
  },
  {
   "cell_type": "markdown",
   "metadata": {},
   "source": [
    "#### EDA for Numeric Features\n",
    "\n",
    "We then shifted our focus towards the few numeric features we had in our dataset"
   ]
  },
  {
   "cell_type": "code",
   "execution_count": 15,
   "metadata": {},
   "outputs": [],
   "source": [
    "numeric_features = [i for i,name in zip(df.dtypes.index, df.dtypes) if name in ['int64', 'float64']]\n",
    "numeric_df = df[numeric_features]\n",
    "numeric_df = numeric_df.drop(['region_code', 'district_code'], axis=1)"
   ]
  },
  {
   "cell_type": "markdown",
   "metadata": {},
   "source": [
    "Investigating their values"
   ]
  },
  {
   "cell_type": "code",
   "execution_count": 16,
   "metadata": {},
   "outputs": [
    {
     "data": {
      "text/html": [
       "<div>\n",
       "<style scoped>\n",
       "    .dataframe tbody tr th:only-of-type {\n",
       "        vertical-align: middle;\n",
       "    }\n",
       "\n",
       "    .dataframe tbody tr th {\n",
       "        vertical-align: top;\n",
       "    }\n",
       "\n",
       "    .dataframe thead th {\n",
       "        text-align: right;\n",
       "    }\n",
       "</style>\n",
       "<table border=\"1\" class=\"dataframe\">\n",
       "  <thead>\n",
       "    <tr style=\"text-align: right;\">\n",
       "      <th></th>\n",
       "      <th>target</th>\n",
       "      <th>amount_tsh</th>\n",
       "      <th>gps_height</th>\n",
       "      <th>longitude</th>\n",
       "      <th>latitude</th>\n",
       "      <th>population</th>\n",
       "      <th>construction_year</th>\n",
       "    </tr>\n",
       "  </thead>\n",
       "  <tbody>\n",
       "    <tr>\n",
       "      <th>0</th>\n",
       "      <td>0</td>\n",
       "      <td>0.0</td>\n",
       "      <td>0</td>\n",
       "      <td>33.037555</td>\n",
       "      <td>-2.411289</td>\n",
       "      <td>0</td>\n",
       "      <td>0</td>\n",
       "    </tr>\n",
       "    <tr>\n",
       "      <th>1</th>\n",
       "      <td>0</td>\n",
       "      <td>1200.0</td>\n",
       "      <td>1228</td>\n",
       "      <td>30.254171</td>\n",
       "      <td>-4.530045</td>\n",
       "      <td>650</td>\n",
       "      <td>2002</td>\n",
       "    </tr>\n",
       "    <tr>\n",
       "      <th>2</th>\n",
       "      <td>0</td>\n",
       "      <td>0.0</td>\n",
       "      <td>0</td>\n",
       "      <td>31.515446</td>\n",
       "      <td>-3.335620</td>\n",
       "      <td>0</td>\n",
       "      <td>0</td>\n",
       "    </tr>\n",
       "    <tr>\n",
       "      <th>3</th>\n",
       "      <td>2</td>\n",
       "      <td>0.0</td>\n",
       "      <td>954</td>\n",
       "      <td>36.838153</td>\n",
       "      <td>-3.650579</td>\n",
       "      <td>200</td>\n",
       "      <td>2003</td>\n",
       "    </tr>\n",
       "    <tr>\n",
       "      <th>4</th>\n",
       "      <td>0</td>\n",
       "      <td>0.0</td>\n",
       "      <td>0</td>\n",
       "      <td>33.540494</td>\n",
       "      <td>-9.162976</td>\n",
       "      <td>0</td>\n",
       "      <td>0</td>\n",
       "    </tr>\n",
       "    <tr>\n",
       "      <th>5</th>\n",
       "      <td>2</td>\n",
       "      <td>0.0</td>\n",
       "      <td>0</td>\n",
       "      <td>33.906286</td>\n",
       "      <td>-9.422596</td>\n",
       "      <td>0</td>\n",
       "      <td>0</td>\n",
       "    </tr>\n",
       "    <tr>\n",
       "      <th>6</th>\n",
       "      <td>2</td>\n",
       "      <td>0.0</td>\n",
       "      <td>934</td>\n",
       "      <td>37.668473</td>\n",
       "      <td>-3.318240</td>\n",
       "      <td>1</td>\n",
       "      <td>1980</td>\n",
       "    </tr>\n",
       "  </tbody>\n",
       "</table>\n",
       "</div>"
      ],
      "text/plain": [
       "   target  amount_tsh  gps_height  longitude  latitude  population  \\\n",
       "0       0         0.0           0  33.037555 -2.411289           0   \n",
       "1       0      1200.0        1228  30.254171 -4.530045         650   \n",
       "2       0         0.0           0  31.515446 -3.335620           0   \n",
       "3       2         0.0         954  36.838153 -3.650579         200   \n",
       "4       0         0.0           0  33.540494 -9.162976           0   \n",
       "5       2         0.0           0  33.906286 -9.422596           0   \n",
       "6       2         0.0         934  37.668473 -3.318240           1   \n",
       "\n",
       "   construction_year  \n",
       "0                  0  \n",
       "1               2002  \n",
       "2                  0  \n",
       "3               2003  \n",
       "4                  0  \n",
       "5                  0  \n",
       "6               1980  "
      ]
     },
     "execution_count": 16,
     "metadata": {},
     "output_type": "execute_result"
    }
   ],
   "source": [
    "numeric_df.head(7)"
   ]
  },
  {
   "cell_type": "code",
   "execution_count": 17,
   "metadata": {},
   "outputs": [
    {
     "data": {
      "text/html": [
       "<div>\n",
       "<style scoped>\n",
       "    .dataframe tbody tr th:only-of-type {\n",
       "        vertical-align: middle;\n",
       "    }\n",
       "\n",
       "    .dataframe tbody tr th {\n",
       "        vertical-align: top;\n",
       "    }\n",
       "\n",
       "    .dataframe thead th {\n",
       "        text-align: right;\n",
       "    }\n",
       "</style>\n",
       "<table border=\"1\" class=\"dataframe\">\n",
       "  <thead>\n",
       "    <tr style=\"text-align: right;\">\n",
       "      <th></th>\n",
       "      <th>target</th>\n",
       "      <th>amount_tsh</th>\n",
       "      <th>gps_height</th>\n",
       "      <th>longitude</th>\n",
       "      <th>latitude</th>\n",
       "      <th>population</th>\n",
       "      <th>construction_year</th>\n",
       "    </tr>\n",
       "  </thead>\n",
       "  <tbody>\n",
       "    <tr>\n",
       "      <th>count</th>\n",
       "      <td>44550.000000</td>\n",
       "      <td>44550.000000</td>\n",
       "      <td>44550.00000</td>\n",
       "      <td>44550.000000</td>\n",
       "      <td>4.455000e+04</td>\n",
       "      <td>44550.000000</td>\n",
       "      <td>44550.000000</td>\n",
       "    </tr>\n",
       "    <tr>\n",
       "      <th>mean</th>\n",
       "      <td>0.840337</td>\n",
       "      <td>311.803606</td>\n",
       "      <td>667.13486</td>\n",
       "      <td>34.063738</td>\n",
       "      <td>-5.701952e+00</td>\n",
       "      <td>178.796611</td>\n",
       "      <td>1295.855847</td>\n",
       "    </tr>\n",
       "    <tr>\n",
       "      <th>std</th>\n",
       "      <td>0.950518</td>\n",
       "      <td>2896.833721</td>\n",
       "      <td>693.26855</td>\n",
       "      <td>6.585153</td>\n",
       "      <td>2.951913e+00</td>\n",
       "      <td>462.652249</td>\n",
       "      <td>953.097530</td>\n",
       "    </tr>\n",
       "    <tr>\n",
       "      <th>min</th>\n",
       "      <td>0.000000</td>\n",
       "      <td>0.000000</td>\n",
       "      <td>-63.00000</td>\n",
       "      <td>0.000000</td>\n",
       "      <td>-1.164838e+01</td>\n",
       "      <td>0.000000</td>\n",
       "      <td>0.000000</td>\n",
       "    </tr>\n",
       "    <tr>\n",
       "      <th>25%</th>\n",
       "      <td>0.000000</td>\n",
       "      <td>0.000000</td>\n",
       "      <td>0.00000</td>\n",
       "      <td>33.084442</td>\n",
       "      <td>-8.548090e+00</td>\n",
       "      <td>0.000000</td>\n",
       "      <td>0.000000</td>\n",
       "    </tr>\n",
       "    <tr>\n",
       "      <th>50%</th>\n",
       "      <td>0.000000</td>\n",
       "      <td>0.000000</td>\n",
       "      <td>367.00000</td>\n",
       "      <td>34.894399</td>\n",
       "      <td>-5.018285e+00</td>\n",
       "      <td>25.000000</td>\n",
       "      <td>1985.000000</td>\n",
       "    </tr>\n",
       "    <tr>\n",
       "      <th>75%</th>\n",
       "      <td>2.000000</td>\n",
       "      <td>20.000000</td>\n",
       "      <td>1320.00000</td>\n",
       "      <td>37.171972</td>\n",
       "      <td>-3.323613e+00</td>\n",
       "      <td>210.000000</td>\n",
       "      <td>2004.000000</td>\n",
       "    </tr>\n",
       "    <tr>\n",
       "      <th>max</th>\n",
       "      <td>2.000000</td>\n",
       "      <td>350000.000000</td>\n",
       "      <td>2770.00000</td>\n",
       "      <td>40.325240</td>\n",
       "      <td>-2.000000e-08</td>\n",
       "      <td>15300.000000</td>\n",
       "      <td>2013.000000</td>\n",
       "    </tr>\n",
       "  </tbody>\n",
       "</table>\n",
       "</div>"
      ],
      "text/plain": [
       "             target     amount_tsh   gps_height     longitude      latitude  \\\n",
       "count  44550.000000   44550.000000  44550.00000  44550.000000  4.455000e+04   \n",
       "mean       0.840337     311.803606    667.13486     34.063738 -5.701952e+00   \n",
       "std        0.950518    2896.833721    693.26855      6.585153  2.951913e+00   \n",
       "min        0.000000       0.000000    -63.00000      0.000000 -1.164838e+01   \n",
       "25%        0.000000       0.000000      0.00000     33.084442 -8.548090e+00   \n",
       "50%        0.000000       0.000000    367.00000     34.894399 -5.018285e+00   \n",
       "75%        2.000000      20.000000   1320.00000     37.171972 -3.323613e+00   \n",
       "max        2.000000  350000.000000   2770.00000     40.325240 -2.000000e-08   \n",
       "\n",
       "         population  construction_year  \n",
       "count  44550.000000       44550.000000  \n",
       "mean     178.796611        1295.855847  \n",
       "std      462.652249         953.097530  \n",
       "min        0.000000           0.000000  \n",
       "25%        0.000000           0.000000  \n",
       "50%       25.000000        1985.000000  \n",
       "75%      210.000000        2004.000000  \n",
       "max    15300.000000        2013.000000  "
      ]
     },
     "execution_count": 17,
     "metadata": {},
     "output_type": "execute_result"
    }
   ],
   "source": [
    "numeric_df.describe()"
   ]
  },
  {
   "cell_type": "markdown",
   "metadata": {},
   "source": [
    "- `amount_tsh`  had 70% 0 values, and one that was as high as 350000, we collectively decided to drop this column.\n",
    "- `construction_year` had 15,638 records with 0 as their year, which we decided to impute with the median of the remaining actual construction year values.\n",
    "- for `gps_height`, `longitude`, `latitude`, `population` there were quite a few 0 values that did no show up as Nans, we decided to get creative here and use their \"nearest neighbors\" and take their respective means for these inidivdual columns and use that to fill the gaps. Here's how we went about it:\n",
    "  - First we converted the `0`s and `1`s to nans\n",
    "  - For each of our interested columns ->`gps_height`, `longitude`, `latitude`, `population`  we used pandas groupby function with each of these columns individually (in this order of importance)->`subvillage`, `district_code`, `basin`  and found means for our interested columns. We then replaced the nans we created above with these grouped means for each interested column. \n",
    "- for `gps_height` we decided to bin them further into 6 bins "
   ]
  },
  {
   "cell_type": "markdown",
   "metadata": {},
   "source": [
    "#### Investigated class distribution"
   ]
  },
  {
   "cell_type": "code",
   "execution_count": 18,
   "metadata": {},
   "outputs": [
    {
     "data": {
      "text/plain": [
       "0    0.544310\n",
       "2    0.384646\n",
       "1    0.071044\n",
       "Name: target, dtype: float64"
      ]
     },
     "execution_count": 18,
     "metadata": {},
     "output_type": "execute_result"
    }
   ],
   "source": [
    "df.target.value_counts(normalize=True)"
   ]
  },
  {
   "cell_type": "markdown",
   "metadata": {},
   "source": [
    "##### Found Class Imbalance \n",
    "only **7% of data** relates to **class 1** (waterpoints that are functional and need repair)\n",
    "\n",
    "We knew at this point we were in for some SMOTE or other oversampling technique to tackle the imbalance in our dataset."
   ]
  },
  {
   "cell_type": "markdown",
   "metadata": {},
   "source": [
    "At this point we had cleaned up our dataset and had tackled all nulls and unnecessary zeroes\n",
    "\n",
    "### Model Scoping\n",
    "\n",
    "We were now ready to try out a few models and in the process discover our \"best model\"\n",
    "\n",
    "#### Metric for comparison\n",
    " `Recall score` was unanimously chosen to be our metric for comparing models, we wanted to build a model that identified the Nonfunctional wells. Wrongly labeling the nonfunctional wells as functional was a concern to us. Since that would mean that those wells would not be investigated or maintained by the concerned authorities. \n",
    " \n",
    " **metric = Recall Score for Class 2**    (correctly identified nonfunctional wells/all nonfunctional wells)"
   ]
  },
  {
   "cell_type": "markdown",
   "metadata": {},
   "source": [
    "#### Importing the dataset for Modeling"
   ]
  },
  {
   "cell_type": "markdown",
   "metadata": {},
   "source": [
    "Here the dataset is cleaned as described earlier, along with encoding all the categorical features using OneHotEncoder from sklearn. The encoders derived from processing the training sets were also used to transform the test sets. The detailed docstrings nad codes for individual steps can be found [here](../../src/data_cleaning/processing_functions.py)"
   ]
  },
  {
   "cell_type": "code",
   "execution_count": 19,
   "metadata": {},
   "outputs": [],
   "source": [
    "X_train, X_test, y_train, y_test, classes_dict = pfs.processed_dataset()\n",
    "X_train, X_test = pfs.ohe_train_and_test_features(X_train, X_test)"
   ]
  },
  {
   "cell_type": "markdown",
   "metadata": {},
   "source": [
    "#### First Simple Model"
   ]
  },
  {
   "cell_type": "markdown",
   "metadata": {},
   "source": [
    "Just to get an idea of what we were playing with we decided to try out a decision tree for our first simple model"
   ]
  },
  {
   "cell_type": "code",
   "execution_count": 20,
   "metadata": {},
   "outputs": [
    {
     "data": {
      "image/png": "[encoded data removed]",
      "text/plain": [
       "<Figure size 432x288 with 2 Axes>"
      ]
     },
     "metadata": {
      "needs_background": "light"
     },
     "output_type": "display_data"
    }
   ],
   "source": [
    "#instantiating a decision tree with class_weights being balanced\n",
    "dt = DecisionTreeClassifier(random_state=2020, class_weight='balanced')\n",
    "model1 = dt.fit(X_train, y_train)\n",
    "plot_confusion_matrix(model1, X_train, y_train, cmap='Blues', normalize='true');"
   ]
  },
  {
   "cell_type": "markdown",
   "metadata": {},
   "source": [
    "Well we found our simple model to fit perfectly on our training set. But our goal was to be able to build a model that could be generalized on 'new data'. Our simple model would definitely lead to a high variance on unseen data. We needed to start using cross validation so we could get a better idea about how our model would perform on 'other data'.\n",
    "\n",
    "\n",
    "### Our modeling game plan was as follows:\n",
    "- First create a scorer to compute recall for class 2 alone which can then be used in croos_val_score()\n",
    "- Create a `smoted dataset` to tackle class imbalance\n",
    "- Alternate between smoted and un-smoted dataset, when un-smoted dataset is used, ensure the class_weight is set to balanced\n",
    "- the model that has low variance between the validation folds and has the maximum recall score would be our final model."
   ]
  },
  {
   "cell_type": "markdown",
   "metadata": {},
   "source": [
    "We tried out all the ensemble methods we could from `sklearn`. For detailed explanations about our trials and failures please refer the notebooks [here](../ll_notebooks) and [here](../js_notebooks)"
   ]
  },
  {
   "cell_type": "markdown",
   "metadata": {},
   "source": [
    "#### Smoted Model\n",
    "\n",
    "In the cell below we use Synthetic Minority Oversampling TEchnique (**SMOTE**) from imblearn.over_sampling and create a new training dataset that can be used with balanced distribution of classes."
   ]
  },
  {
   "cell_type": "code",
   "execution_count": 21,
   "metadata": {},
   "outputs": [],
   "source": [
    "X_train_smoted, y_train_smoted = SMOTE(random_state=2020).fit_sample(X_train.values, y_train)"
   ]
  },
  {
   "cell_type": "markdown",
   "metadata": {},
   "source": [
    "Let's also bring in our custom scorer that calculates the Recall score for our specific class (2: Nonfunctional wells)\n",
    "\n",
    "We do that in the cell below"
   ]
  },
  {
   "cell_type": "code",
   "execution_count": 22,
   "metadata": {},
   "outputs": [],
   "source": [
    "scorer = mfs.scorer()"
   ]
  },
  {
   "cell_type": "markdown",
   "metadata": {},
   "source": [
    "For illustration on how we used the smote technique, we'll run the vanilla RandomForestClassifier on smoted dataset, using cross validation with 3 folds in the cell below"
   ]
  },
  {
   "cell_type": "code",
   "execution_count": 23,
   "metadata": {},
   "outputs": [
    {
     "name": "stdout",
     "output_type": "stream",
     "text": [
      "Class 2 recall score : \n",
      " [0.77458864 0.76196957 0.60942719]\n"
     ]
    }
   ],
   "source": [
    "rf2 = RandomForestClassifier(random_state=2020)\n",
    "rf2.fit(X_train_smoted, y_train_smoted)\n",
    "print('Class 2 recall score :','\\n',cross_val_score(rf2, X_train_smoted, y_train_smoted, scoring=scorer, cv=3))"
   ]
  },
  {
   "cell_type": "markdown",
   "metadata": {},
   "source": [
    "We find that this model is not performing too bad, the variance is seen in just one of the three folds, but the overall bias we noticed was comparatively low (from our other not so good models). \n",
    "\n",
    "We tried out both smoted and unsmoted datasets in our iterations and found a pattern, there was more variance between the folds when we used smoted dataset and less variance when we used our regular training dataset (with class_weight = 'balanced' option)\n",
    "\n",
    "#### Final Model\n",
    "\n",
    "So we decided to stick with our original training data and chose to run a **mini grid search** with these 18 combinations:\n",
    "- `n_estimators`: [50, 100, 150]\n",
    "    \n",
    "- `max_features`: ['sqrt', 'log2', 1]\n",
    "    \n",
    "- `criterion`: [\"gini\", \"entropy\"]\n",
    "\n",
    "Our best_params were: \n",
    "* **'criterion': `'entropy'`,**  \n",
    "* **'max_features': `'log2'`,**  \n",
    "* **'n_estimators': `150`**\n",
    "\n",
    "We then continued with a few more iterations , knowing that our grid search was limited to the values we chose, and found these to be our best estimators:\n",
    "\n",
    "> **RandomForestClassifier(class_weight=`'balanced'`, \n",
    "                           criterion=`'entropy'`,\n",
    "                           max_features=`'log2'`,\n",
    "                           n_estimators=`200`,\n",
    "                          random_state=2020)**"
   ]
  },
  {
   "cell_type": "markdown",
   "metadata": {},
   "source": [
    "Here's how our final model shaped up"
   ]
  },
  {
   "cell_type": "code",
   "execution_count": 24,
   "metadata": {},
   "outputs": [
    {
     "name": "stdout",
     "output_type": "stream",
     "text": [
      "Class 2 recall score : \n",
      " [0.76628151 0.76663165 0.7710084 ]\n"
     ]
    }
   ],
   "source": [
    "final_model = RandomForestClassifier(class_weight='balanced', criterion='entropy', \n",
    "                             max_features='log2', n_estimators=200,\n",
    "                             random_state=2020)\n",
    "final_model.fit(X_train, y_train)\n",
    "print('Class 2 recall score :','\\n',cross_val_score(final_model, X_train, y_train, scoring=scorer, cv=3))"
   ]
  },
  {
   "cell_type": "markdown",
   "metadata": {},
   "source": [
    "We were thrilled to see out metric performing well with low variance between the folds"
   ]
  },
  {
   "cell_type": "markdown",
   "metadata": {},
   "source": [
    "**It was finally time to test it out on our test set**"
   ]
  },
  {
   "cell_type": "code",
   "execution_count": 25,
   "metadata": {},
   "outputs": [
    {
     "data": {
      "text/plain": [
       "0.7663502109704642"
      ]
     },
     "execution_count": 25,
     "metadata": {},
     "output_type": "execute_result"
    }
   ],
   "source": [
    "recall_score(y_test, final_model.predict(X_test), average=None)[2]"
   ]
  },
  {
   "cell_type": "markdown",
   "metadata": {},
   "source": [
    "This brought happy tears to our eyes! we were sticking with this model. Let's now print out some details regarding other scores and features that were relevant for branching out at the nodes of the 200 estimators we used. "
   ]
  },
  {
   "cell_type": "markdown",
   "metadata": {},
   "source": [
    "## Model interpretation"
   ]
  },
  {
   "cell_type": "markdown",
   "metadata": {},
   "source": [
    "![Our model](../../reports/figures/bestmodelplot.png)"
   ]
  },
  {
   "cell_type": "code",
   "execution_count": 26,
   "metadata": {},
   "outputs": [
    {
     "name": "stdout",
     "output_type": "stream",
     "text": [
      "                          precision    recall  f1-score   support\n",
      "\n",
      "              Functional       0.79      0.89      0.84      8010\n",
      "Functional, Needs Repair       0.58      0.31      0.41      1152\n",
      "           Nonfunctional       0.83      0.77      0.80      5688\n",
      "\n",
      "                accuracy                           0.80     14850\n",
      "               macro avg       0.73      0.65      0.68     14850\n",
      "            weighted avg       0.79      0.80      0.79     14850\n",
      "\n"
     ]
    }
   ],
   "source": [
    "print(classification_report(y_test, final_model.predict(X_test),\n",
    "                            target_names=['Functional',\n",
    "                                          'Functional, Needs Repair',\n",
    "                                          'Nonfunctional']))"
   ]
  },
  {
   "cell_type": "markdown",
   "metadata": {},
   "source": [
    "- Our model succesfully predicted 77% of 'truly' Nonfunctional wells from our test set.\n",
    "- Our model had an overall accuracy of 80% for the test set data\n",
    "- Our model's precision score for Nonfunctional wells is also pretty high at around 83%\n",
    "- Our model fails to correctly predict Class 1 with a very low recall of about 31% for this class (wells needing repair)"
   ]
  },
  {
   "cell_type": "markdown",
   "metadata": {},
   "source": [
    "Printing out list of important features in our model"
   ]
  },
  {
   "cell_type": "code",
   "execution_count": 27,
   "metadata": {},
   "outputs": [
    {
     "data": {
      "text/plain": [
       "[('longitude', 0.14760880319320208),\n",
       " ('latitude', 0.14454789280256236),\n",
       " ('population', 0.07143115844398291),\n",
       " ('construction_year', 0.05409489090510416),\n",
       " ('dry', 0.03911514193181044),\n",
       " ('enough', 0.022364423749381544),\n",
       " ('insufficient', 0.015017471613087002),\n",
       " ('other', 0.014927762952718148),\n",
       " ('other', 0.013775772574932022),\n",
       " ('never pay', 0.013721293969689423),\n",
       " ('gravity', 0.011379367755001613),\n",
       " ('communal standpipe', 0.011090102838493727),\n",
       " ('above surface up to 1250', 0.009398245412234656),\n",
       " ('pay monthly', 0.008880822969308212),\n",
       " ('above surface upto 1750', 0.008758911289176927),\n",
       " ('True', 0.008078525606993332),\n",
       " ('hand pump', 0.008029875051156661),\n",
       " ('soft', 0.007737218709698372),\n",
       " ('spring', 0.007615047462805865),\n",
       " ('VWC', 0.007578655764626777)]"
      ]
     },
     "execution_count": 27,
     "metadata": {},
     "output_type": "execute_result"
    }
   ],
   "source": [
    "sorted(list(zip(X_train.columns, final_model.feature_importances_)), key=lambda x: x[1], reverse=True)[:20]"
   ]
  },
  {
   "cell_type": "markdown",
   "metadata": {},
   "source": [
    "The features we saw in our EDA and thought would have a bearing in our classification model do infact show up in the list above! \n",
    "\n",
    "## Conclusion:\n",
    "\n",
    "- Our analysis finds that geographical aspects - longitude and latitude of the waterwells are the most significant features that helped classify the waterwells\n",
    "- We find that the population around the waterwells and the year in which the wells were constructed are among the important features for our model to classify the records\n",
    "- Water quantity is the most significant categorical feature with 'dry', 'enough', and 'insufficient' being the specific encoded categories that determined the classification of the waterwells\n",
    "- We find that extraction type is also an important categorical feature for determining the classes. Within which 'other', 'gravity', and 'hand pump' are the top classifiers.\n",
    "- We also find waterpoint type - communal standpipe as being one of the top important feature in our model.\n",
    "\n",
    "### Future Investigations:\n",
    "\n",
    "- Could we build another model that would focus on predicting the Class 1 waterwells, the ones that need repair?\n",
    "- Which features directly affect the functional wells that need repair?\n",
    "\n",
    "### Recommendations:\n",
    "\n",
    "- Regular inspection of high risk areas can be undertaken to avoid having more number of nonfunctional waterwells\n",
    "- Wells that work on motorpump or wind powered energy are found to be more susceptible to being nonfunctional. Maintenance procedures can be set in place to ensure that they remain functional. "
   ]
  }
 ],
 "metadata": {
  "kernelspec": {
   "display_name": "Python 3 (Tanzania)",
   "language": "python",
   "name": "tanzania"
  },
  "language_info": {
   "codemirror_mode": {
    "name": "ipython",
    "version": 3
   },
   "file_extension": ".py",
   "mimetype": "text/x-python",
   "name": "python",
   "nbconvert_exporter": "python",
   "pygments_lexer": "ipython3",
   "version": "3.7.6"
  }
 },
 "nbformat": 4,
 "nbformat_minor": 4
}
